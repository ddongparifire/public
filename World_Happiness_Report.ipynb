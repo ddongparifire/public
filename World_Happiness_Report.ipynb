{
  "nbformat": 4,
  "nbformat_minor": 0,
  "metadata": {
    "colab": {
      "provenance": [],
      "authorship_tag": "ABX9TyPc5OeAK+wMeSvs/p07YDUL",
      "include_colab_link": true
    },
    "kernelspec": {
      "name": "python3",
      "display_name": "Python 3"
    },
    "language_info": {
      "name": "python"
    }
  },
  "cells": [
    {
      "cell_type": "markdown",
      "metadata": {
        "id": "view-in-github",
        "colab_type": "text"
      },
      "source": [
        "<a href=\"https://colab.research.google.com/github/ddongparifire/public/blob/main/World_Happiness_Report.ipynb\" target=\"_parent\"><img src=\"https://colab.research.google.com/assets/colab-badge.svg\" alt=\"Open In Colab\"/></a>"
      ]
    },
    {
      "cell_type": "markdown",
      "source": [
        "**Data source:World Happiness Report up to 2023 (Kaggle)**\n",
        "\n",
        "https://www.kaggle.com/datasets/ajaypalsinghlo/world-happiness-report-2023\n"
      ],
      "metadata": {
        "id": "LYS_m4cdDaIz"
      }
    },
    {
      "cell_type": "markdown",
      "source": [
        "**Context**\n",
        "\n",
        "The World Happiness Report is a landmark survey of the state of global happiness . The report continues to gain global recognition as governments, organizations and civil society increasingly use happiness indicators to inform their policy-making decisions. Leading experts across fields – economics, psychology, survey analysis, national statistics, health, public policy and more – describe how measurements of well-being can be used effectively to assess the progress of nations. The reports review the state of happiness in the world today and show how the new science of happiness explains personal and national variations in happiness."
      ],
      "metadata": {
        "id": "_0WroLm0D9nj"
      }
    },
    {
      "cell_type": "markdown",
      "source": [
        "**Content**\n",
        "\n",
        "\n",
        "The happiness scores and rankings use data from the Gallup World Poll . The columns following the happiness score estimate the extent to which each of six factors – economic production, social support, life expectancy, freedom, absence of corruption, and generosity – contribute to making life evaluations higher in each country than they are in Dystopia, a hypothetical country that has values equal to the world’s lowest national averages for each of the six factors. They have no impact on the total score reported for each country, but they do explain why some countries rank higher than others."
      ],
      "metadata": {
        "id": "VJJu-kKIEAtg"
      }
    },
    {
      "cell_type": "markdown",
      "source": [
        "Step 1: Mount Google Drive\n",
        "\n",
        " Mount your Google Drive to access the files:"
      ],
      "metadata": {
        "id": "9fxzlCeeBcLz"
      }
    },
    {
      "cell_type": "code",
      "execution_count": null,
      "metadata": {
        "colab": {
          "base_uri": "https://localhost:8080/"
        },
        "id": "eiZiaMuUAROe",
        "outputId": "df972db9-7d7b-48de-ea7d-876aa8ec014c"
      },
      "outputs": [
        {
          "output_type": "stream",
          "name": "stdout",
          "text": [
            "Drive already mounted at /content/drive; to attempt to forcibly remount, call drive.mount(\"/content/drive\", force_remount=True).\n"
          ]
        }
      ],
      "source": [
        "from google.colab import drive\n",
        "drive.mount('/content/drive')"
      ]
    },
    {
      "cell_type": "markdown",
      "source": [
        "Then, navigate to the dataset directory:"
      ],
      "metadata": {
        "id": "_zrtxBKhBnji"
      }
    },
    {
      "cell_type": "code",
      "source": [
        "import os\n",
        "path = \"/content/drive/My Drive/UM/MADS/SIADS521 - Visual Exp of Data/Assignment 3/Dataset/\"\n",
        "os.listdir(path)  # List files in the directory"
      ],
      "metadata": {
        "colab": {
          "base_uri": "https://localhost:8080/"
        },
        "id": "McpdEahDBkGl",
        "outputId": "ee765978-6408-41f4-8ac5-4adcf4c1a5d4"
      },
      "execution_count": null,
      "outputs": [
        {
          "output_type": "execute_result",
          "data": {
            "text/plain": [
              "['countryContinent.csv',\n",
              " 'world_country_and_usa_states_latitude_and_longitude_values.csv',\n",
              " 'WHR2023.csv']"
            ]
          },
          "metadata": {},
          "execution_count": 244
        }
      ]
    },
    {
      "cell_type": "markdown",
      "source": [
        "Load the dataset:"
      ],
      "metadata": {
        "id": "eVXDPEKzBvAe"
      }
    },
    {
      "cell_type": "code",
      "source": [
        "import pandas as pd\n",
        "# Load CSV files\n",
        "df = pd.read_csv(path + \"WHR2023.csv\")\n"
      ],
      "metadata": {
        "id": "f1QMcB5QBohg"
      },
      "execution_count": null,
      "outputs": []
    },
    {
      "cell_type": "markdown",
      "source": [
        "Step 2: Verify & Clean the Data"
      ],
      "metadata": {
        "id": "bIbidgehGbKP"
      }
    },
    {
      "cell_type": "code",
      "source": [
        "# Verify that data is loaded correctly\n",
        "print(df.head())\n"
      ],
      "metadata": {
        "colab": {
          "base_uri": "https://localhost:8080/"
        },
        "id": "dFSulgjyGV4E",
        "outputId": "20196d02-abb1-4bf4-dd39-e4c0aed53b22",
        "collapsed": true
      },
      "execution_count": null,
      "outputs": [
        {
          "output_type": "stream",
          "name": "stdout",
          "text": [
            "  Country name  Ladder score  Standard error of ladder score  upperwhisker  \\\n",
            "0      Finland         7.804                           0.036         7.875   \n",
            "1      Denmark         7.586                           0.041         7.667   \n",
            "2      Iceland         7.530                           0.049         7.625   \n",
            "3       Israel         7.473                           0.032         7.535   \n",
            "4  Netherlands         7.403                           0.029         7.460   \n",
            "\n",
            "   lowerwhisker  Logged GDP per capita  Social support  \\\n",
            "0         7.733                 10.792           0.969   \n",
            "1         7.506                 10.962           0.954   \n",
            "2         7.434                 10.896           0.983   \n",
            "3         7.411                 10.639           0.943   \n",
            "4         7.346                 10.942           0.930   \n",
            "\n",
            "   Healthy life expectancy  Freedom to make life choices  Generosity  \\\n",
            "0                   71.150                         0.961      -0.019   \n",
            "1                   71.250                         0.934       0.134   \n",
            "2                   72.050                         0.936       0.211   \n",
            "3                   72.697                         0.809      -0.023   \n",
            "4                   71.550                         0.887       0.213   \n",
            "\n",
            "   Perceptions of corruption  Ladder score in Dystopia  \\\n",
            "0                      0.182                     1.778   \n",
            "1                      0.196                     1.778   \n",
            "2                      0.668                     1.778   \n",
            "3                      0.708                     1.778   \n",
            "4                      0.379                     1.778   \n",
            "\n",
            "   Explained by: Log GDP per capita  Explained by: Social support  \\\n",
            "0                             1.888                         1.585   \n",
            "1                             1.949                         1.548   \n",
            "2                             1.926                         1.620   \n",
            "3                             1.833                         1.521   \n",
            "4                             1.942                         1.488   \n",
            "\n",
            "   Explained by: Healthy life expectancy  \\\n",
            "0                                  0.535   \n",
            "1                                  0.537   \n",
            "2                                  0.559   \n",
            "3                                  0.577   \n",
            "4                                  0.545   \n",
            "\n",
            "   Explained by: Freedom to make life choices  Explained by: Generosity  \\\n",
            "0                                       0.772                     0.126   \n",
            "1                                       0.734                     0.208   \n",
            "2                                       0.738                     0.250   \n",
            "3                                       0.569                     0.124   \n",
            "4                                       0.672                     0.251   \n",
            "\n",
            "   Explained by: Perceptions of corruption  Dystopia + residual  \n",
            "0                                    0.535                2.363  \n",
            "1                                    0.525                2.084  \n",
            "2                                    0.187                2.250  \n",
            "3                                    0.158                2.691  \n",
            "4                                    0.394                2.110  \n"
          ]
        }
      ]
    },
    {
      "cell_type": "code",
      "source": [
        "# Check for missing values in the dataset\n",
        "missing_values = df.isnull().sum()\n",
        "\n",
        "# Display only columns with missing values\n",
        "missing_values = missing_values[missing_values > 0]\n",
        "\n",
        "# Show the missing values\n",
        "print(missing_values)"
      ],
      "metadata": {
        "colab": {
          "base_uri": "https://localhost:8080/"
        },
        "id": "z756MzwMxJVJ",
        "outputId": "6fe54cae-8e50-4c4b-9964-a79704ab4fda"
      },
      "execution_count": null,
      "outputs": [
        {
          "output_type": "stream",
          "name": "stdout",
          "text": [
            "Healthy life expectancy                  1\n",
            "Explained by: Healthy life expectancy    1\n",
            "Dystopia + residual                      1\n",
            "dtype: int64\n"
          ]
        }
      ]
    },
    {
      "cell_type": "markdown",
      "source": [
        "It looks like your dataset has only a few missing values:\n",
        "\n",
        "\t•\tHealthy life expectancy: 1 missing value\n",
        "\t•\tExplained by: Healthy life expectancy: 1 missing value\n",
        "\t•\tDystopia + residual: 1 missing value"
      ],
      "metadata": {
        "id": "USfph5kJxNWh"
      }
    },
    {
      "cell_type": "markdown",
      "source": [
        "Since dataset has only three missing values and they are all in numerical columns, I will fill them with the median of their respective columns. The median is robust to outliers and ensures that your dataset remains consistent without losing data.\n"
      ],
      "metadata": {
        "id": "SfKp4QWuxaRy"
      }
    },
    {
      "cell_type": "code",
      "source": [
        "df.fillna(df.select_dtypes(include=['number']).median(), inplace=True) # apply .median() only to numeric columns."
      ],
      "metadata": {
        "id": "vAysNpXBxwhN"
      },
      "execution_count": null,
      "outputs": []
    },
    {
      "cell_type": "code",
      "source": [
        "# Check for missing values in the dataset\n",
        "missing_values = df.isnull().sum()\n",
        "\n",
        "# Display only columns with missing values\n",
        "missing_values = missing_values[missing_values > 0]\n",
        "\n",
        "# Show the missing values\n",
        "print(missing_values)"
      ],
      "metadata": {
        "colab": {
          "base_uri": "https://localhost:8080/"
        },
        "id": "MoFkFcRRyHj6",
        "outputId": "2e23b984-12fd-482c-8e10-d7f31d0a3344"
      },
      "execution_count": null,
      "outputs": [
        {
          "output_type": "stream",
          "name": "stdout",
          "text": [
            "Series([], dtype: int64)\n"
          ]
        }
      ]
    },
    {
      "cell_type": "markdown",
      "source": [
        "Now No missing value in the dataset."
      ],
      "metadata": {
        "id": "DFQkNvTpyULn"
      }
    },
    {
      "cell_type": "code",
      "source": [
        "print(df.dtypes)"
      ],
      "metadata": {
        "colab": {
          "base_uri": "https://localhost:8080/"
        },
        "id": "glZGY9GXy08m",
        "outputId": "036873f1-d4db-45c6-88d4-9960cefcd7d9"
      },
      "execution_count": null,
      "outputs": [
        {
          "output_type": "stream",
          "name": "stdout",
          "text": [
            "Country name                                   object\n",
            "Ladder score                                  float64\n",
            "Standard error of ladder score                float64\n",
            "upperwhisker                                  float64\n",
            "lowerwhisker                                  float64\n",
            "Logged GDP per capita                         float64\n",
            "Social support                                float64\n",
            "Healthy life expectancy                       float64\n",
            "Freedom to make life choices                  float64\n",
            "Generosity                                    float64\n",
            "Perceptions of corruption                     float64\n",
            "Ladder score in Dystopia                      float64\n",
            "Explained by: Log GDP per capita              float64\n",
            "Explained by: Social support                  float64\n",
            "Explained by: Healthy life expectancy         float64\n",
            "Explained by: Freedom to make life choices    float64\n",
            "Explained by: Generosity                      float64\n",
            "Explained by: Perceptions of corruption       float64\n",
            "Dystopia + residual                           float64\n",
            "dtype: object\n"
          ]
        }
      ]
    },
    {
      "cell_type": "markdown",
      "source": [
        "Dataset’s column data types look well-structured, with categorical data (Country name) as object and all numerical data as float64.  "
      ],
      "metadata": {
        "id": "B7sYWfpxyv0B"
      }
    },
    {
      "cell_type": "markdown",
      "source": [
        "If the column names are too long, we can shorten them while keeping them understandable. Here’s a cleaner version of the column names:"
      ],
      "metadata": {
        "id": "5PxUR_puzbTt"
      }
    },
    {
      "cell_type": "markdown",
      "source": [
        " Shorten Column Names"
      ],
      "metadata": {
        "id": "LTAbESUtzuEc"
      }
    },
    {
      "cell_type": "code",
      "source": [
        "# Rename columns for clarity\n",
        "df.rename(columns={\n",
        "    \"Country name\": \"Country\",\n",
        "    \"Ladder score\": \"Happiness\",\n",
        "    \"Logged GDP per capita\": \"GDP\",\n",
        "    \"Social support\": \"Social_Support\",\n",
        "    \"Healthy life expectancy\": \"Life_Exp\",\n",
        "    \"Freedom to make life choices\": \"Freedom\",\n",
        "    \"Generosity\": \"Generosity\",\n",
        "    \"Perceptions of corruption\": \"Corruption\",\n",
        "    \"Ladder score in Dystopia\": \"Dystopia\",\n",
        "    \"Dystopia + residual\": \"Dystopia_Res\"\n",
        "}, inplace=True)\n",
        "\n",
        "# Drop unnecessary statistical columns\n",
        "columns_to_drop = [\n",
        "    \"Standard error of ladder score\",  # SE_Ladder (statistical uncertainty)\n",
        "    \"upperwhisker\", \"lowerwhisker\",  # Whisker values (not needed for visualization)\n",
        "    \"Dystopia_Res\",  # Statistical measure, not an actual factor\n",
        "    # \"Explained by\" factors (breakdown of happiness score, redundant for visualization)\n",
        "    \"Explained by: Log GDP per capita\",\n",
        "    \"Explained by: Social support\",\n",
        "    \"Explained by: Healthy life expectancy\",\n",
        "    \"Explained by: Freedom to make life choices\",\n",
        "    \"Explained by: Generosity\",\n",
        "    \"Explained by: Perceptions of corruption\"\n",
        "]\n",
        "\n",
        "# Drop the selected columns\n",
        "df.drop(columns=columns_to_drop, inplace=True)"
      ],
      "metadata": {
        "id": "xoOcLev_zsri"
      },
      "execution_count": null,
      "outputs": []
    },
    {
      "cell_type": "markdown",
      "source": [
        "` Exploratory Data Analysis (EDA)`"
      ],
      "metadata": {
        "id": "MOaW1_r__F5S"
      }
    },
    {
      "cell_type": "markdown",
      "source": [
        "Statistics Sumary"
      ],
      "metadata": {
        "id": "_0Y_HsHUBVfG"
      }
    },
    {
      "cell_type": "code",
      "source": [
        "numeric_df = df.select_dtypes(include=['float64', 'int64'])\n",
        "print(numeric_df.corr())  # Compute correlation only on numeric data"
      ],
      "metadata": {
        "colab": {
          "base_uri": "https://localhost:8080/"
        },
        "id": "az_gsq7v0dWR",
        "outputId": "a697bf76-469d-434c-c5d7-6e3081f5dc01",
        "collapsed": true
      },
      "execution_count": null,
      "outputs": [
        {
          "output_type": "stream",
          "name": "stdout",
          "text": [
            "                Happiness       GDP  Social_Support  Life_Exp   Freedom  \\\n",
            "Happiness        1.000000  0.784367        0.834532  0.745396  0.662924   \n",
            "GDP              0.784367  1.000000        0.738069  0.835638  0.451439   \n",
            "Social_Support   0.834532  0.738069        1.000000  0.725402  0.541630   \n",
            "Life_Exp         0.745396  0.835638        0.725402  1.000000  0.413066   \n",
            "Freedom          0.662924  0.451439        0.541630  0.413066  1.000000   \n",
            "Generosity       0.044082 -0.156456        0.036574 -0.135646  0.170229   \n",
            "Corruption      -0.471911 -0.436961       -0.272490 -0.403079 -0.383786   \n",
            "Dystopia              NaN       NaN             NaN       NaN       NaN   \n",
            "\n",
            "                Generosity  Corruption  Dystopia  \n",
            "Happiness         0.044082   -0.471911       NaN  \n",
            "GDP              -0.156456   -0.436961       NaN  \n",
            "Social_Support    0.036574   -0.272490       NaN  \n",
            "Life_Exp         -0.135646   -0.403079       NaN  \n",
            "Freedom           0.170229   -0.383786       NaN  \n",
            "Generosity        1.000000   -0.122653       NaN  \n",
            "Corruption       -0.122653    1.000000       NaN  \n",
            "Dystopia               NaN         NaN       NaN  \n"
          ]
        }
      ]
    },
    {
      "cell_type": "code",
      "source": [
        "print(df[\"Dystopia\"].unique())"
      ],
      "metadata": {
        "colab": {
          "base_uri": "https://localhost:8080/"
        },
        "id": "UQXLCw28ALYn",
        "outputId": "ecbc043b-e555-45e6-cea8-c1ecae36ad98"
      },
      "execution_count": null,
      "outputs": [
        {
          "output_type": "stream",
          "name": "stdout",
          "text": [
            "[1.778]\n"
          ]
        }
      ]
    },
    {
      "cell_type": "code",
      "source": [
        "print(df.columns)"
      ],
      "metadata": {
        "colab": {
          "base_uri": "https://localhost:8080/"
        },
        "id": "Fh85gDBbAS2_",
        "outputId": "12ec5e6d-8731-401f-946b-cce62f795252"
      },
      "execution_count": null,
      "outputs": [
        {
          "output_type": "stream",
          "name": "stdout",
          "text": [
            "Index(['Country', 'Happiness', 'GDP', 'Social_Support', 'Life_Exp', 'Freedom',\n",
            "       'Generosity', 'Corruption', 'Dystopia'],\n",
            "      dtype='object')\n"
          ]
        }
      ]
    },
    {
      "cell_type": "markdown",
      "source": [
        "An issue identified: The issue is that the Dystopia column contains only a single unique value, 1.778, for all rows. This means that there is no variation in the data, which causes pandas to return NaN in correlation calculations. In statistics, correlation measures how two variables move together—since Dystopia never changes, it has no meaningful correlation with any other column."
      ],
      "metadata": {
        "id": "GiuVIs-eAmgh"
      }
    },
    {
      "cell_type": "markdown",
      "source": [
        "Drop the Dystopia column (since it provides no useful information):"
      ],
      "metadata": {
        "id": "uMNwVzDtAom8"
      }
    },
    {
      "cell_type": "code",
      "source": [
        "df.drop(columns=[\"Dystopia\"], inplace=True)"
      ],
      "metadata": {
        "id": "iSRO4h61A8Jn"
      },
      "execution_count": null,
      "outputs": []
    },
    {
      "cell_type": "markdown",
      "source": [
        "Re-run your correlation analysis:"
      ],
      "metadata": {
        "id": "Tseg3kGjBCcC"
      }
    },
    {
      "cell_type": "code",
      "source": [
        "numeric_df = df.select_dtypes(include=['float64', 'int64'])\n",
        "print(numeric_df.corr())"
      ],
      "metadata": {
        "colab": {
          "base_uri": "https://localhost:8080/"
        },
        "id": "q8zvlhHXBBrg",
        "outputId": "abb82431-a9be-4957-8763-53d133f80b8e",
        "collapsed": true
      },
      "execution_count": null,
      "outputs": [
        {
          "output_type": "stream",
          "name": "stdout",
          "text": [
            "                Happiness       GDP  Social_Support  Life_Exp   Freedom  \\\n",
            "Happiness        1.000000  0.784367        0.834532  0.745396  0.662924   \n",
            "GDP              0.784367  1.000000        0.738069  0.835638  0.451439   \n",
            "Social_Support   0.834532  0.738069        1.000000  0.725402  0.541630   \n",
            "Life_Exp         0.745396  0.835638        0.725402  1.000000  0.413066   \n",
            "Freedom          0.662924  0.451439        0.541630  0.413066  1.000000   \n",
            "Generosity       0.044082 -0.156456        0.036574 -0.135646  0.170229   \n",
            "Corruption      -0.471911 -0.436961       -0.272490 -0.403079 -0.383786   \n",
            "\n",
            "                Generosity  Corruption  \n",
            "Happiness         0.044082   -0.471911  \n",
            "GDP              -0.156456   -0.436961  \n",
            "Social_Support    0.036574   -0.272490  \n",
            "Life_Exp         -0.135646   -0.403079  \n",
            "Freedom           0.170229   -0.383786  \n",
            "Generosity        1.000000   -0.122653  \n",
            "Corruption       -0.122653    1.000000  \n"
          ]
        }
      ]
    },
    {
      "cell_type": "markdown",
      "source": [
        "Now that I've removed the Dystopia column, correlation matrix no longer has NaN values, which is great."
      ],
      "metadata": {
        "id": "gHt4tDIgB6Ul"
      }
    },
    {
      "cell_type": "markdown",
      "source": [
        "Now that dataset is cleaned, let’s visualize the correlations using a heatmap:"
      ],
      "metadata": {
        "id": "wD2MZjYyCKem"
      }
    },
    {
      "cell_type": "code",
      "source": [
        "print(df.columns)  # Check if names are shortened"
      ],
      "metadata": {
        "colab": {
          "base_uri": "https://localhost:8080/"
        },
        "id": "85WUFdOuFQNG",
        "outputId": "8fbc2e67-eefd-430d-a64a-8416a2d72100"
      },
      "execution_count": null,
      "outputs": [
        {
          "output_type": "stream",
          "name": "stdout",
          "text": [
            "Index(['Country', 'Happiness', 'GDP', 'Social_Support', 'Life_Exp', 'Freedom',\n",
            "       'Generosity', 'Corruption'],\n",
            "      dtype='object')\n"
          ]
        }
      ]
    },
    {
      "cell_type": "markdown",
      "source": [
        " Save the Cleaned Data"
      ],
      "metadata": {
        "id": "qsnVI-_q0GVm"
      }
    },
    {
      "cell_type": "code",
      "source": [
        "cleaned_data_path = \"/content/drive/My Drive/UM/MADS/SIADS521 - Visual Exp of Data/Assignment 3/Output/cleaned_happiness_2023.csv\"\n",
        "df.to_csv(cleaned_data_path, index=False)"
      ],
      "metadata": {
        "id": "BrW7bXxU0NRX"
      },
      "execution_count": null,
      "outputs": []
    },
    {
      "cell_type": "markdown",
      "source": [
        "**Correlation Heatmap**"
      ],
      "metadata": {
        "id": "84SjElnUFvea"
      }
    },
    {
      "cell_type": "code",
      "source": [
        "import matplotlib.pyplot as plt\n",
        "import seaborn as sns\n",
        "\n",
        "# Select only numeric columns\n",
        "numeric_df = df.select_dtypes(include=['float64', 'int64'])\n",
        "\n",
        "# Create correlation heatmap\n",
        "plt.figure(figsize=(12,8))\n",
        "sns.heatmap(numeric_df.corr(), annot=True, cmap=\"coolwarm\", fmt=\".2f\", linewidths=0.5)\n",
        "plt.title(\"Correlation Heatmap of World Happiness Data\")\n",
        "plt.show()"
      ],
      "metadata": {
        "colab": {
          "base_uri": "https://localhost:8080/",
          "height": 699
        },
        "id": "HkKif2LTCUhk",
        "outputId": "2afde98c-63c4-430d-853b-d7ea95074339"
      },
      "execution_count": null,
      "outputs": [
        {
          "output_type": "display_data",
          "data": {
            "text/plain": [
              "<Figure size 1200x800 with 2 Axes>"
            ],
            "image/png": "[encoded data removed]"
          },
          "metadata": {}
        }
      ]
    },
    {
      "cell_type": "markdown",
      "source": [
        "**Bar Chart: Top 10 happiest and bottom 10 least happy countries**"
      ],
      "metadata": {
        "id": "ZZ-QwL5tOJ8X"
      }
    },
    {
      "cell_type": "code",
      "source": [
        "import matplotlib.pyplot as plt\n",
        "import seaborn as sns\n",
        "import pandas as pd\n",
        "\n",
        "# Check for missing values and drop them if necessary\n",
        "df = df.dropna(subset=[\"Happiness\", \"Country\"])\n",
        "\n",
        "# Sort and select the top 10 happiest and bottom 10 least happy countries\n",
        "top_10 = df.sort_values(by=\"Happiness\", ascending=False).head(10)\n",
        "bottom_10 = df.sort_values(by=\"Happiness\", ascending=True).head(10)\n",
        "\n",
        "# Create a figure with two subplots\n",
        "fig, axes = plt.subplots(1, 2, figsize=(14, 6), sharex=True)\n",
        "\n",
        "# Define distinct color palettes for better contrast\n",
        "top_palette = sns.color_palette(\"Oranges\", len(top_10))  # Warm colors for happier countries\n",
        "bottom_palette = sns.color_palette(\"Blues\", len(bottom_10))  # Cool colors for less happy countries\n",
        "\n",
        "# Bar plot for top 10 happiest countries\n",
        "sns.barplot(x=\"Happiness\", y=\"Country\", data=top_10, palette=top_palette, ax=axes[0],\n",
        "            order=top_10.sort_values(\"Happiness\").Country)\n",
        "axes[0].set_title(\"Top 10 Happiest Countries (2023)\", fontsize=14, fontweight=\"bold\", loc=\"center\")\n",
        "axes[0].set_xlabel(\"Happiness Score\", fontsize=12)\n",
        "axes[0].set_ylabel(\"Country\", fontsize=12)\n",
        "\n",
        "# Bar plot for bottom 10 least happy countries\n",
        "sns.barplot(x=\"Happiness\", y=\"Country\", data=bottom_10, palette=bottom_palette, ax=axes[1],\n",
        "            order=bottom_10.sort_values(\"Happiness\").Country)\n",
        "axes[1].set_title(\"Bottom 10 Least Happy Countries (2023)\", fontsize=14, fontweight=\"bold\", loc=\"center\")\n",
        "axes[1].set_xlabel(\"Happiness Score\", fontsize=12)\n",
        "axes[1].set_ylabel(\"\")\n",
        "\n",
        "# Adjust layout and show the plot\n",
        "plt.tight_layout()\n",
        "plt.show()"
      ],
      "metadata": {
        "colab": {
          "base_uri": "https://localhost:8080/",
          "height": 871
        },
        "id": "MCSVD0LrOpzN",
        "outputId": "ff1f245f-e182-4b2c-fbeb-f542c0fa2105"
      },
      "execution_count": null,
      "outputs": [
        {
          "output_type": "stream",
          "name": "stderr",
          "text": [
            "<ipython-input-260-b96f38f30a45>:20: FutureWarning:\n",
            "\n",
            "\n",
            "\n",
            "Passing `palette` without assigning `hue` is deprecated and will be removed in v0.14.0. Assign the `y` variable to `hue` and set `legend=False` for the same effect.\n",
            "\n",
            "\n",
            "<ipython-input-260-b96f38f30a45>:27: FutureWarning:\n",
            "\n",
            "\n",
            "\n",
            "Passing `palette` without assigning `hue` is deprecated and will be removed in v0.14.0. Assign the `y` variable to `hue` and set `legend=False` for the same effect.\n",
            "\n",
            "\n"
          ]
        },
        {
          "output_type": "display_data",
          "data": {
            "text/plain": [
              "<Figure size 1400x600 with 2 Axes>"
            ],
            "image/png": "[encoded data removed]"
          },
          "metadata": {}
        }
      ]
    },
    {
      "cell_type": "markdown",
      "source": [
        "**Scatter Plot : Realationship of a variable with Happiness**"
      ],
      "metadata": {
        "id": "cy5YskDUTIIS"
      }
    },
    {
      "cell_type": "code",
      "source": [
        "import plotly.express as px\n",
        "import pandas as pd\n",
        "\n",
        "# Load dataset\n",
        "df = pd.read_csv(cleaned_data_path)\n",
        "\n",
        "# Define variable for visualization\n",
        "selected_var = \"Social_Support\"  # Default to Social Support\n",
        "\n",
        "# Drop missing values to prevent errors\n",
        "df = df.dropna(subset=[selected_var, \"Happiness\"])\n",
        "\n",
        "# Ensure the selected variable and Happiness are numeric\n",
        "df[selected_var] = pd.to_numeric(df[selected_var], errors=\"coerce\")\n",
        "df[\"Happiness\"] = pd.to_numeric(df[\"Happiness\"], errors=\"coerce\")\n",
        "\n",
        "# Create scatter plot\n",
        "fig = px.scatter(\n",
        "    df,\n",
        "    x=selected_var,\n",
        "    y=\"Happiness\",\n",
        "    hover_name=\"Country\",\n",
        "    color=\"Happiness\",\n",
        "    color_continuous_scale=\"RdBu_r\",  # Red → Blue scale (Happy → Less happy)\n",
        "    trendline=\"ols\",  # Regression line\n",
        "    title=\"Relationship Between Social Support and Happiness\",\n",
        "    labels={selected_var: \"Social Support Score\"}\n",
        ")\n",
        "\n",
        "# Update layout\n",
        "fig.update_layout(\n",
        "    title_x=0.5,  # Center the title\n",
        "    height=600,   # Adjust height for better visibility\n",
        "    coloraxis_colorbar=dict(title=\"Happiness Score\")\n",
        ")\n",
        "\n",
        "# Show figure\n",
        "fig.show()"
      ],
      "metadata": {
        "colab": {
          "base_uri": "https://localhost:8080/",
          "height": 617
        },
        "id": "LZX4qvWIO6o3",
        "outputId": "08b4b105-181e-4da1-f705-48675d05a72e"
      },
      "execution_count": null,
      "outputs": [
        {
          "output_type": "display_data",
          "data": {
            "text/html": [
              "<html>\n",
              "<head><meta charset=\"utf-8\" /></head>\n",
              "<body>\n",
              "    <div>            <script src=\"https://cdnjs.cloudflare.com/ajax/libs/mathjax/2.7.5/MathJax.js?config=TeX-AMS-MML_SVG\"></script><script type=\"text/javascript\">if (window.MathJax && window.MathJax.Hub && window.MathJax.Hub.Config) {window.MathJax.Hub.Config({SVG: {font: \"STIX-Web\"}});}</script>                <script type=\"text/javascript\">window.PlotlyConfig = {MathJaxConfig: 'local'};</script>\n",
              "        <script charset=\"utf-8\" src=\"https://cdn.plot.ly/plotly-2.35.2.min.js\"></script>                <div id=\"952d927e-b064-4aee-bef5-578d4f28ab7a\" class=\"plotly-graph-div\" style=\"height:600px; width:100%;\"></div>            <script type=\"text/javascript\">                                    window.PLOTLYENV=window.PLOTLYENV || {};                                    if (document.getElementById(\"952d927e-b064-4aee-bef5-578d4f28ab7a\")) {                    Plotly.newPlot(                        \"952d927e-b064-4aee-bef5-578d4f28ab7a\",                        [{\"hovertemplate\":\"\\u003cb\\u003e%{hovertext}\\u003c\\u002fb\\u003e\\u003cbr\\u003e\\u003cbr\\u003eSocial Support Score=%{x}\\u003cbr\\u003eHappiness=%{marker.color}\\u003cextra\\u003e\\u003c\\u002fextra\\u003e\",\"hovertext\":[\"Finland\",\"Denmark\",\"Iceland\",\"Israel\",\"Netherlands\",\"Sweden\",\"Norway\",\"Switzerland\",\"Luxembourg\",\"New Zealand\",\"Austria\",\"Australia\",\"Canada\",\"Ireland\",\"United States\",\"Germany\",\"Belgium\",\"Czechia\",\"United Kingdom\",\"Lithuania\",\"France\",\"Slovenia\",\"Costa Rica\",\"Romania\",\"Singapore\",\"United Arab Emirates\",\"Taiwan Province of China\",\"Uruguay\",\"Slovakia\",\"Saudi Arabia\",\"Estonia\",\"Spain\",\"Italy\",\"Kosovo\",\"Chile\",\"Mexico\",\"Malta\",\"Panama\",\"Poland\",\"Nicaragua\",\"Latvia\",\"Bahrain\",\"Guatemala\",\"Kazakhstan\",\"Serbia\",\"Cyprus\",\"Japan\",\"Croatia\",\"Brazil\",\"El Salvador\",\"Hungary\",\"Argentina\",\"Honduras\",\"Uzbekistan\",\"Malaysia\",\"Portugal\",\"South Korea\",\"Greece\",\"Mauritius\",\"Thailand\",\"Mongolia\",\"Kyrgyzstan\",\"Moldova\",\"China\",\"Vietnam\",\"Paraguay\",\"Montenegro\",\"Jamaica\",\"Bolivia\",\"Russia\",\"Bosnia and Herzegovina\",\"Colombia\",\"Dominican Republic\",\"Ecuador\",\"Peru\",\"Philippines\",\"Bulgaria\",\"Nepal\",\"Armenia\",\"Tajikistan\",\"Algeria\",\"Hong Kong S.A.R. of China\",\"Albania\",\"Indonesia\",\"South Africa\",\"Congo (Brazzaville)\",\"North Macedonia\",\"Venezuela\",\"Laos\",\"Georgia\",\"Guinea\",\"Ukraine\",\"Ivory Coast\",\"Gabon\",\"Nigeria\",\"Cameroon\",\"Mozambique\",\"Iraq\",\"State of Palestine\",\"Morocco\",\"Iran\",\"Senegal\",\"Mauritania\",\"Burkina Faso\",\"Namibia\",\"Turkiye\",\"Ghana\",\"Pakistan\",\"Niger\",\"Tunisia\",\"Kenya\",\"Sri Lanka\",\"Uganda\",\"Chad\",\"Cambodia\",\"Benin\",\"Myanmar\",\"Bangladesh\",\"Gambia\",\"Mali\",\"Egypt\",\"Togo\",\"Jordan\",\"Ethiopia\",\"Liberia\",\"India\",\"Madagascar\",\"Zambia\",\"Tanzania\",\"Comoros\",\"Malawi\",\"Botswana\",\"Congo (Kinshasa)\",\"Zimbabwe\",\"Sierra Leone\",\"Lebanon\",\"Afghanistan\"],\"legendgroup\":\"\",\"marker\":{\"color\":[7.804,7.586,7.53,7.473,7.403,7.395,7.315,7.24,7.228,7.123,7.097,7.095,6.961,6.911,6.894,6.892,6.859,6.845,6.796,6.763,6.661,6.65,6.609,6.589,6.587,6.571,6.535,6.494,6.469,6.463,6.455,6.436,6.405,6.368,6.334,6.33,6.3,6.265,6.26,6.259,6.213,6.173,6.15,6.144,6.144,6.13,6.129,6.125,6.125,6.122,6.041,6.024,6.023,6.014,6.012,5.968,5.951,5.931,5.902,5.843,5.84,5.825,5.819,5.818,5.763,5.738,5.722,5.703,5.684,5.661,5.633,5.63,5.569,5.559,5.526,5.523,5.466,5.36,5.342,5.33,5.329,5.308,5.277,5.277,5.275,5.267,5.254,5.211,5.111,5.109,5.072,5.071,5.053,5.035,4.981,4.973,4.954,4.941,4.908,4.903,4.876,4.855,4.724,4.638,4.631,4.614,4.605,4.555,4.501,4.497,4.487,4.442,4.432,4.397,4.393,4.374,4.372,4.282,4.279,4.198,4.17,4.137,4.12,4.091,4.042,4.036,4.019,3.982,3.694,3.545,3.495,3.435,3.207,3.204,3.138,2.392,1.859],\"coloraxis\":\"coloraxis\",\"symbol\":\"circle\"},\"mode\":\"markers\",\"name\":\"\",\"orientation\":\"v\",\"showlegend\":false,\"x\":[0.969,0.954,0.983,0.943,0.93,0.939,0.943,0.92,0.879,0.952,0.888,0.934,0.929,0.905,0.919,0.896,0.915,0.953,0.882,0.939,0.909,0.951,0.872,0.848,0.878,0.826,0.884,0.913,0.953,0.884,0.946,0.932,0.882,0.844,0.889,0.804,0.923,0.896,0.925,0.853,0.937,0.844,0.812,0.931,0.873,0.826,0.894,0.917,0.836,0.755,0.943,0.891,0.766,0.875,0.799,0.878,0.812,0.835,0.888,0.874,0.933,0.911,0.857,0.836,0.821,0.906,0.89,0.867,0.811,0.889,0.88,0.822,0.827,0.806,0.798,0.78,0.918,0.748,0.79,0.836,0.855,0.817,0.718,0.804,0.907,0.605,0.805,0.839,0.679,0.716,0.649,0.878,0.572,0.746,0.74,0.686,0.692,0.718,0.859,0.553,0.778,0.629,0.644,0.663,0.787,0.796,0.641,0.601,0.59,0.73,0.69,0.826,0.794,0.722,0.747,0.437,0.787,0.544,0.584,0.593,0.726,0.595,0.729,0.782,0.596,0.608,0.65,0.694,0.653,0.471,0.531,0.753,0.652,0.69,0.555,0.53,0.341],\"xaxis\":\"x\",\"y\":[7.804,7.586,7.53,7.473,7.403,7.395,7.315,7.24,7.228,7.123,7.097,7.095,6.961,6.911,6.894,6.892,6.859,6.845,6.796,6.763,6.661,6.65,6.609,6.589,6.587,6.571,6.535,6.494,6.469,6.463,6.455,6.436,6.405,6.368,6.334,6.33,6.3,6.265,6.26,6.259,6.213,6.173,6.15,6.144,6.144,6.13,6.129,6.125,6.125,6.122,6.041,6.024,6.023,6.014,6.012,5.968,5.951,5.931,5.902,5.843,5.84,5.825,5.819,5.818,5.763,5.738,5.722,5.703,5.684,5.661,5.633,5.63,5.569,5.559,5.526,5.523,5.466,5.36,5.342,5.33,5.329,5.308,5.277,5.277,5.275,5.267,5.254,5.211,5.111,5.109,5.072,5.071,5.053,5.035,4.981,4.973,4.954,4.941,4.908,4.903,4.876,4.855,4.724,4.638,4.631,4.614,4.605,4.555,4.501,4.497,4.487,4.442,4.432,4.397,4.393,4.374,4.372,4.282,4.279,4.198,4.17,4.137,4.12,4.091,4.042,4.036,4.019,3.982,3.694,3.545,3.495,3.435,3.207,3.204,3.138,2.392,1.859],\"yaxis\":\"y\",\"type\":\"scatter\"},{\"hovertemplate\":\"\\u003cb\\u003eOLS trendline\\u003c\\u002fb\\u003e\\u003cbr\\u003eHappiness = 7.36179 * Social_Support + -0.342811\\u003cbr\\u003eR\\u003csup\\u003e2\\u003c\\u002fsup\\u003e=0.696443\\u003cbr\\u003e\\u003cbr\\u003eSocial Support Score=%{x}\\u003cbr\\u003eHappiness=%{y} \\u003cb\\u003e(trend)\\u003c\\u002fb\\u003e\\u003cextra\\u003e\\u003c\\u002fextra\\u003e\",\"legendgroup\":\"\",\"marker\":{\"symbol\":\"circle\"},\"mode\":\"lines\",\"name\":\"\",\"showlegend\":false,\"x\":[0.341,0.437,0.471,0.53,0.531,0.544,0.553,0.555,0.572,0.584,0.59,0.593,0.595,0.596,0.601,0.605,0.608,0.629,0.641,0.644,0.649,0.65,0.652,0.653,0.663,0.679,0.686,0.69,0.69,0.692,0.694,0.716,0.718,0.718,0.722,0.726,0.729,0.73,0.74,0.746,0.747,0.748,0.753,0.755,0.766,0.778,0.78,0.782,0.787,0.787,0.79,0.794,0.796,0.798,0.799,0.804,0.804,0.805,0.806,0.811,0.812,0.812,0.817,0.821,0.822,0.826,0.826,0.826,0.827,0.835,0.836,0.836,0.836,0.839,0.844,0.844,0.848,0.853,0.855,0.857,0.859,0.867,0.872,0.873,0.874,0.875,0.878,0.878,0.878,0.879,0.88,0.882,0.882,0.884,0.884,0.888,0.888,0.889,0.889,0.89,0.891,0.894,0.896,0.896,0.905,0.906,0.907,0.909,0.911,0.913,0.915,0.917,0.918,0.919,0.92,0.923,0.925,0.929,0.93,0.931,0.932,0.933,0.934,0.937,0.939,0.939,0.943,0.943,0.943,0.946,0.951,0.952,0.953,0.953,0.954,0.969,0.983],\"xaxis\":\"x\",\"y\":[2.1675587333237,2.8742905125850733,3.1245913510734757,3.558936923744528,3.566298713111834,3.6620019748868122,3.7282580791925657,3.742981657927178,3.8681320771713787,3.9564735495790506,4.0006442857828866,4.022729653884804,4.037453232619416,4.0448150219867225,4.081623968823252,4.111071126292476,4.1331564943943935,4.28775407110782,4.376095543515491,4.398180911617409,4.434989858453939,4.442351647821245,4.457075226555856,4.4644370159231626,4.538054909596222,4.655843539473118,4.70737606504426,4.7368232225134825,4.7368232225134825,4.751546801248095,4.766270379982707,4.9282297460634386,4.94295332479805,4.94295332479805,4.9724004822672745,5.001847639736498,5.023933007838416,5.031294797205722,5.104912690878781,5.149083427082617,5.1564452164499235,5.16380700581723,5.200615952653759,5.215339531388372,5.296319214428737,5.384660686836408,5.399384265571021,5.414107844305633,5.450916791142163,5.450916791142163,5.47300215924408,5.502449316713304,5.517172895447916,5.5318964741825285,5.539258263549835,5.576067210386364,5.576067210386364,5.58342899975367,5.590790789120976,5.627599735957506,5.634961525324812,5.634961525324812,5.671770472161341,5.701217629630565,5.7085794189978705,5.738026576467095,5.738026576467095,5.738026576467095,5.745388365834401,5.8042826807728485,5.811644470140155,5.811644470140155,5.811644470140155,5.833729838242072,5.870538785078602,5.870538785078602,5.8999859425478265,5.936794889384356,5.951518468118968,5.96624204685358,5.980965625588192,6.0398599405266395,6.076668887363169,6.0840306767304755,6.091392466097782,6.098754255465088,6.120839623567005,6.120839623567005,6.120839623567005,6.128201412934311,6.135563202301618,6.150286781036229,6.150286781036229,6.165010359770841,6.165010359770841,6.194457517240065,6.194457517240065,6.201819306607371,6.201819306607371,6.209181095974677,6.216542885341983,6.238628253443901,6.253351832178513,6.253351832178513,6.3196079364842666,6.326969725851573,6.334331515218879,6.349055093953491,6.3637786726881025,6.378502251422715,6.393225830157326,6.407949408891938,6.415311198259245,6.422672987626551,6.430034776993857,6.452120145095774,6.466843723830387,6.49629088129961,6.503652670666916,6.511014460034223,6.518376249401528,6.525738038768834,6.53309982813614,6.555185196238058,6.569908774972669,6.569908774972669,6.599355932441893,6.599355932441893,6.599355932441893,6.621441300543811,6.658250247380341,6.665612036747647,6.672973826114953,6.672973826114953,6.680335615482258,6.790762455991849,6.893827507134132],\"yaxis\":\"y\",\"type\":\"scatter\"}],                        {\"template\":{\"data\":{\"histogram2dcontour\":[{\"type\":\"histogram2dcontour\",\"colorbar\":{\"outlinewidth\":0,\"ticks\":\"\"},\"colorscale\":[[0.0,\"#0d0887\"],[0.1111111111111111,\"#46039f\"],[0.2222222222222222,\"#7201a8\"],[0.3333333333333333,\"#9c179e\"],[0.4444444444444444,\"#bd3786\"],[0.5555555555555556,\"#d8576b\"],[0.6666666666666666,\"#ed7953\"],[0.7777777777777778,\"#fb9f3a\"],[0.8888888888888888,\"#fdca26\"],[1.0,\"#f0f921\"]]}],\"choropleth\":[{\"type\":\"choropleth\",\"colorbar\":{\"outlinewidth\":0,\"ticks\":\"\"}}],\"histogram2d\":[{\"type\":\"histogram2d\",\"colorbar\":{\"outlinewidth\":0,\"ticks\":\"\"},\"colorscale\":[[0.0,\"#0d0887\"],[0.1111111111111111,\"#46039f\"],[0.2222222222222222,\"#7201a8\"],[0.3333333333333333,\"#9c179e\"],[0.4444444444444444,\"#bd3786\"],[0.5555555555555556,\"#d8576b\"],[0.6666666666666666,\"#ed7953\"],[0.7777777777777778,\"#fb9f3a\"],[0.8888888888888888,\"#fdca26\"],[1.0,\"#f0f921\"]]}],\"heatmap\":[{\"type\":\"heatmap\",\"colorbar\":{\"outlinewidth\":0,\"ticks\":\"\"},\"colorscale\":[[0.0,\"#0d0887\"],[0.1111111111111111,\"#46039f\"],[0.2222222222222222,\"#7201a8\"],[0.3333333333333333,\"#9c179e\"],[0.4444444444444444,\"#bd3786\"],[0.5555555555555556,\"#d8576b\"],[0.6666666666666666,\"#ed7953\"],[0.7777777777777778,\"#fb9f3a\"],[0.8888888888888888,\"#fdca26\"],[1.0,\"#f0f921\"]]}],\"heatmapgl\":[{\"type\":\"heatmapgl\",\"colorbar\":{\"outlinewidth\":0,\"ticks\":\"\"},\"colorscale\":[[0.0,\"#0d0887\"],[0.1111111111111111,\"#46039f\"],[0.2222222222222222,\"#7201a8\"],[0.3333333333333333,\"#9c179e\"],[0.4444444444444444,\"#bd3786\"],[0.5555555555555556,\"#d8576b\"],[0.6666666666666666,\"#ed7953\"],[0.7777777777777778,\"#fb9f3a\"],[0.8888888888888888,\"#fdca26\"],[1.0,\"#f0f921\"]]}],\"contourcarpet\":[{\"type\":\"contourcarpet\",\"colorbar\":{\"outlinewidth\":0,\"ticks\":\"\"}}],\"contour\":[{\"type\":\"contour\",\"colorbar\":{\"outlinewidth\":0,\"ticks\":\"\"},\"colorscale\":[[0.0,\"#0d0887\"],[0.1111111111111111,\"#46039f\"],[0.2222222222222222,\"#7201a8\"],[0.3333333333333333,\"#9c179e\"],[0.4444444444444444,\"#bd3786\"],[0.5555555555555556,\"#d8576b\"],[0.6666666666666666,\"#ed7953\"],[0.7777777777777778,\"#fb9f3a\"],[0.8888888888888888,\"#fdca26\"],[1.0,\"#f0f921\"]]}],\"surface\":[{\"type\":\"surface\",\"colorbar\":{\"outlinewidth\":0,\"ticks\":\"\"},\"colorscale\":[[0.0,\"#0d0887\"],[0.1111111111111111,\"#46039f\"],[0.2222222222222222,\"#7201a8\"],[0.3333333333333333,\"#9c179e\"],[0.4444444444444444,\"#bd3786\"],[0.5555555555555556,\"#d8576b\"],[0.6666666666666666,\"#ed7953\"],[0.7777777777777778,\"#fb9f3a\"],[0.8888888888888888,\"#fdca26\"],[1.0,\"#f0f921\"]]}],\"mesh3d\":[{\"type\":\"mesh3d\",\"colorbar\":{\"outlinewidth\":0,\"ticks\":\"\"}}],\"scatter\":[{\"fillpattern\":{\"fillmode\":\"overlay\",\"size\":10,\"solidity\":0.2},\"type\":\"scatter\"}],\"parcoords\":[{\"type\":\"parcoords\",\"line\":{\"colorbar\":{\"outlinewidth\":0,\"ticks\":\"\"}}}],\"scatterpolargl\":[{\"type\":\"scatterpolargl\",\"marker\":{\"colorbar\":{\"outlinewidth\":0,\"ticks\":\"\"}}}],\"bar\":[{\"error_x\":{\"color\":\"#2a3f5f\"},\"error_y\":{\"color\":\"#2a3f5f\"},\"marker\":{\"line\":{\"color\":\"#E5ECF6\",\"width\":0.5},\"pattern\":{\"fillmode\":\"overlay\",\"size\":10,\"solidity\":0.2}},\"type\":\"bar\"}],\"scattergeo\":[{\"type\":\"scattergeo\",\"marker\":{\"colorbar\":{\"outlinewidth\":0,\"ticks\":\"\"}}}],\"scatterpolar\":[{\"type\":\"scatterpolar\",\"marker\":{\"colorbar\":{\"outlinewidth\":0,\"ticks\":\"\"}}}],\"histogram\":[{\"marker\":{\"pattern\":{\"fillmode\":\"overlay\",\"size\":10,\"solidity\":0.2}},\"type\":\"histogram\"}],\"scattergl\":[{\"type\":\"scattergl\",\"marker\":{\"colorbar\":{\"outlinewidth\":0,\"ticks\":\"\"}}}],\"scatter3d\":[{\"type\":\"scatter3d\",\"line\":{\"colorbar\":{\"outlinewidth\":0,\"ticks\":\"\"}},\"marker\":{\"colorbar\":{\"outlinewidth\":0,\"ticks\":\"\"}}}],\"scattermapbox\":[{\"type\":\"scattermapbox\",\"marker\":{\"colorbar\":{\"outlinewidth\":0,\"ticks\":\"\"}}}],\"scatterternary\":[{\"type\":\"scatterternary\",\"marker\":{\"colorbar\":{\"outlinewidth\":0,\"ticks\":\"\"}}}],\"scattercarpet\":[{\"type\":\"scattercarpet\",\"marker\":{\"colorbar\":{\"outlinewidth\":0,\"ticks\":\"\"}}}],\"carpet\":[{\"aaxis\":{\"endlinecolor\":\"#2a3f5f\",\"gridcolor\":\"white\",\"linecolor\":\"white\",\"minorgridcolor\":\"white\",\"startlinecolor\":\"#2a3f5f\"},\"baxis\":{\"endlinecolor\":\"#2a3f5f\",\"gridcolor\":\"white\",\"linecolor\":\"white\",\"minorgridcolor\":\"white\",\"startlinecolor\":\"#2a3f5f\"},\"type\":\"carpet\"}],\"table\":[{\"cells\":{\"fill\":{\"color\":\"#EBF0F8\"},\"line\":{\"color\":\"white\"}},\"header\":{\"fill\":{\"color\":\"#C8D4E3\"},\"line\":{\"color\":\"white\"}},\"type\":\"table\"}],\"barpolar\":[{\"marker\":{\"line\":{\"color\":\"#E5ECF6\",\"width\":0.5},\"pattern\":{\"fillmode\":\"overlay\",\"size\":10,\"solidity\":0.2}},\"type\":\"barpolar\"}],\"pie\":[{\"automargin\":true,\"type\":\"pie\"}]},\"layout\":{\"autotypenumbers\":\"strict\",\"colorway\":[\"#636efa\",\"#EF553B\",\"#00cc96\",\"#ab63fa\",\"#FFA15A\",\"#19d3f3\",\"#FF6692\",\"#B6E880\",\"#FF97FF\",\"#FECB52\"],\"font\":{\"color\":\"#2a3f5f\"},\"hovermode\":\"closest\",\"hoverlabel\":{\"align\":\"left\"},\"paper_bgcolor\":\"white\",\"plot_bgcolor\":\"#E5ECF6\",\"polar\":{\"bgcolor\":\"#E5ECF6\",\"angularaxis\":{\"gridcolor\":\"white\",\"linecolor\":\"white\",\"ticks\":\"\"},\"radialaxis\":{\"gridcolor\":\"white\",\"linecolor\":\"white\",\"ticks\":\"\"}},\"ternary\":{\"bgcolor\":\"#E5ECF6\",\"aaxis\":{\"gridcolor\":\"white\",\"linecolor\":\"white\",\"ticks\":\"\"},\"baxis\":{\"gridcolor\":\"white\",\"linecolor\":\"white\",\"ticks\":\"\"},\"caxis\":{\"gridcolor\":\"white\",\"linecolor\":\"white\",\"ticks\":\"\"}},\"coloraxis\":{\"colorbar\":{\"outlinewidth\":0,\"ticks\":\"\"}},\"colorscale\":{\"sequential\":[[0.0,\"#0d0887\"],[0.1111111111111111,\"#46039f\"],[0.2222222222222222,\"#7201a8\"],[0.3333333333333333,\"#9c179e\"],[0.4444444444444444,\"#bd3786\"],[0.5555555555555556,\"#d8576b\"],[0.6666666666666666,\"#ed7953\"],[0.7777777777777778,\"#fb9f3a\"],[0.8888888888888888,\"#fdca26\"],[1.0,\"#f0f921\"]],\"sequentialminus\":[[0.0,\"#0d0887\"],[0.1111111111111111,\"#46039f\"],[0.2222222222222222,\"#7201a8\"],[0.3333333333333333,\"#9c179e\"],[0.4444444444444444,\"#bd3786\"],[0.5555555555555556,\"#d8576b\"],[0.6666666666666666,\"#ed7953\"],[0.7777777777777778,\"#fb9f3a\"],[0.8888888888888888,\"#fdca26\"],[1.0,\"#f0f921\"]],\"diverging\":[[0,\"#8e0152\"],[0.1,\"#c51b7d\"],[0.2,\"#de77ae\"],[0.3,\"#f1b6da\"],[0.4,\"#fde0ef\"],[0.5,\"#f7f7f7\"],[0.6,\"#e6f5d0\"],[0.7,\"#b8e186\"],[0.8,\"#7fbc41\"],[0.9,\"#4d9221\"],[1,\"#276419\"]]},\"xaxis\":{\"gridcolor\":\"white\",\"linecolor\":\"white\",\"ticks\":\"\",\"title\":{\"standoff\":15},\"zerolinecolor\":\"white\",\"automargin\":true,\"zerolinewidth\":2},\"yaxis\":{\"gridcolor\":\"white\",\"linecolor\":\"white\",\"ticks\":\"\",\"title\":{\"standoff\":15},\"zerolinecolor\":\"white\",\"automargin\":true,\"zerolinewidth\":2},\"scene\":{\"xaxis\":{\"backgroundcolor\":\"#E5ECF6\",\"gridcolor\":\"white\",\"linecolor\":\"white\",\"showbackground\":true,\"ticks\":\"\",\"zerolinecolor\":\"white\",\"gridwidth\":2},\"yaxis\":{\"backgroundcolor\":\"#E5ECF6\",\"gridcolor\":\"white\",\"linecolor\":\"white\",\"showbackground\":true,\"ticks\":\"\",\"zerolinecolor\":\"white\",\"gridwidth\":2},\"zaxis\":{\"backgroundcolor\":\"#E5ECF6\",\"gridcolor\":\"white\",\"linecolor\":\"white\",\"showbackground\":true,\"ticks\":\"\",\"zerolinecolor\":\"white\",\"gridwidth\":2}},\"shapedefaults\":{\"line\":{\"color\":\"#2a3f5f\"}},\"annotationdefaults\":{\"arrowcolor\":\"#2a3f5f\",\"arrowhead\":0,\"arrowwidth\":1},\"geo\":{\"bgcolor\":\"white\",\"landcolor\":\"#E5ECF6\",\"subunitcolor\":\"white\",\"showland\":true,\"showlakes\":true,\"lakecolor\":\"white\"},\"title\":{\"x\":0.05},\"mapbox\":{\"style\":\"light\"}}},\"xaxis\":{\"anchor\":\"y\",\"domain\":[0.0,1.0],\"title\":{\"text\":\"Social Support Score\"}},\"yaxis\":{\"anchor\":\"x\",\"domain\":[0.0,1.0],\"title\":{\"text\":\"Happiness\"}},\"coloraxis\":{\"colorbar\":{\"title\":{\"text\":\"Happiness Score\"}},\"colorscale\":[[0.0,\"rgb(5,48,97)\"],[0.1,\"rgb(33,102,172)\"],[0.2,\"rgb(67,147,195)\"],[0.3,\"rgb(146,197,222)\"],[0.4,\"rgb(209,229,240)\"],[0.5,\"rgb(247,247,247)\"],[0.6,\"rgb(253,219,199)\"],[0.7,\"rgb(244,165,130)\"],[0.8,\"rgb(214,96,77)\"],[0.9,\"rgb(178,24,43)\"],[1.0,\"rgb(103,0,31)\"]]},\"legend\":{\"tracegroupgap\":0},\"title\":{\"text\":\"Relationship Between Social Support and Happiness\",\"x\":0.5},\"height\":600},                        {\"responsive\": true}                    ).then(function(){\n",
              "                            \n",
              "var gd = document.getElementById('952d927e-b064-4aee-bef5-578d4f28ab7a');\n",
              "var x = new MutationObserver(function (mutations, observer) {{\n",
              "        var display = window.getComputedStyle(gd).display;\n",
              "        if (!display || display === 'none') {{\n",
              "            console.log([gd, 'removed!']);\n",
              "            Plotly.purge(gd);\n",
              "            observer.disconnect();\n",
              "        }}\n",
              "}});\n",
              "\n",
              "// Listen for the removal of the full notebook cells\n",
              "var notebookContainer = gd.closest('#notebook-container');\n",
              "if (notebookContainer) {{\n",
              "    x.observe(notebookContainer, {childList: true});\n",
              "}}\n",
              "\n",
              "// Listen for the clearing of the current output cell\n",
              "var outputEl = gd.closest('.output');\n",
              "if (outputEl) {{\n",
              "    x.observe(outputEl, {childList: true});\n",
              "}}\n",
              "\n",
              "                        })                };                            </script>        </div>\n",
              "</body>\n",
              "</html>"
            ]
          },
          "metadata": {}
        }
      ]
    },
    {
      "cell_type": "markdown",
      "source": [
        "**World Happiness Score Map**"
      ],
      "metadata": {
        "id": "vNxSmutptQbM"
      }
    },
    {
      "cell_type": "code",
      "source": [
        "!pip install geopandas matplotlib pandas contextily # Install Dependencies"
      ],
      "metadata": {
        "collapsed": true,
        "colab": {
          "base_uri": "https://localhost:8080/"
        },
        "id": "HSKXcTHGXZvq",
        "outputId": "838f0646-da97-4e2d-e2c2-d9624902d694"
      },
      "execution_count": null,
      "outputs": [
        {
          "output_type": "stream",
          "name": "stdout",
          "text": [
            "Requirement already satisfied: geopandas in /usr/local/lib/python3.11/dist-packages (1.0.1)\n",
            "Requirement already satisfied: matplotlib in /usr/local/lib/python3.11/dist-packages (3.10.0)\n",
            "Requirement already satisfied: pandas in /usr/local/lib/python3.11/dist-packages (2.2.2)\n",
            "Requirement already satisfied: contextily in /usr/local/lib/python3.11/dist-packages (1.6.2)\n",
            "Requirement already satisfied: numpy>=1.22 in /usr/local/lib/python3.11/dist-packages (from geopandas) (2.0.2)\n",
            "Requirement already satisfied: pyogrio>=0.7.2 in /usr/local/lib/python3.11/dist-packages (from geopandas) (0.10.0)\n",
            "Requirement already satisfied: packaging in /usr/local/lib/python3.11/dist-packages (from geopandas) (24.2)\n",
            "Requirement already satisfied: pyproj>=3.3.0 in /usr/local/lib/python3.11/dist-packages (from geopandas) (3.7.1)\n",
            "Requirement already satisfied: shapely>=2.0.0 in /usr/local/lib/python3.11/dist-packages (from geopandas) (2.0.7)\n",
            "Requirement already satisfied: contourpy>=1.0.1 in /usr/local/lib/python3.11/dist-packages (from matplotlib) (1.3.1)\n",
            "Requirement already satisfied: cycler>=0.10 in /usr/local/lib/python3.11/dist-packages (from matplotlib) (0.12.1)\n",
            "Requirement already satisfied: fonttools>=4.22.0 in /usr/local/lib/python3.11/dist-packages (from matplotlib) (4.56.0)\n",
            "Requirement already satisfied: kiwisolver>=1.3.1 in /usr/local/lib/python3.11/dist-packages (from matplotlib) (1.4.8)\n",
            "Requirement already satisfied: pillow>=8 in /usr/local/lib/python3.11/dist-packages (from matplotlib) (11.1.0)\n",
            "Requirement already satisfied: pyparsing>=2.3.1 in /usr/local/lib/python3.11/dist-packages (from matplotlib) (3.2.1)\n",
            "Requirement already satisfied: python-dateutil>=2.7 in /usr/local/lib/python3.11/dist-packages (from matplotlib) (2.8.2)\n",
            "Requirement already satisfied: pytz>=2020.1 in /usr/local/lib/python3.11/dist-packages (from pandas) (2025.1)\n",
            "Requirement already satisfied: tzdata>=2022.7 in /usr/local/lib/python3.11/dist-packages (from pandas) (2025.1)\n",
            "Requirement already satisfied: geopy in /usr/local/lib/python3.11/dist-packages (from contextily) (2.4.1)\n",
            "Requirement already satisfied: mercantile in /usr/local/lib/python3.11/dist-packages (from contextily) (1.2.1)\n",
            "Requirement already satisfied: rasterio in /usr/local/lib/python3.11/dist-packages (from contextily) (1.4.3)\n",
            "Requirement already satisfied: requests in /usr/local/lib/python3.11/dist-packages (from contextily) (2.32.3)\n",
            "Requirement already satisfied: joblib in /usr/local/lib/python3.11/dist-packages (from contextily) (1.4.2)\n",
            "Requirement already satisfied: xyzservices in /usr/local/lib/python3.11/dist-packages (from contextily) (2025.1.0)\n",
            "Requirement already satisfied: certifi in /usr/local/lib/python3.11/dist-packages (from pyogrio>=0.7.2->geopandas) (2025.1.31)\n",
            "Requirement already satisfied: six>=1.5 in /usr/local/lib/python3.11/dist-packages (from python-dateutil>=2.7->matplotlib) (1.17.0)\n",
            "Requirement already satisfied: geographiclib<3,>=1.52 in /usr/local/lib/python3.11/dist-packages (from geopy->contextily) (2.0)\n",
            "Requirement already satisfied: click>=3.0 in /usr/local/lib/python3.11/dist-packages (from mercantile->contextily) (8.1.8)\n",
            "Requirement already satisfied: affine in /usr/local/lib/python3.11/dist-packages (from rasterio->contextily) (2.4.0)\n",
            "Requirement already satisfied: attrs in /usr/local/lib/python3.11/dist-packages (from rasterio->contextily) (25.3.0)\n",
            "Requirement already satisfied: cligj>=0.5 in /usr/local/lib/python3.11/dist-packages (from rasterio->contextily) (0.7.2)\n",
            "Requirement already satisfied: click-plugins in /usr/local/lib/python3.11/dist-packages (from rasterio->contextily) (1.1.1)\n",
            "Requirement already satisfied: charset-normalizer<4,>=2 in /usr/local/lib/python3.11/dist-packages (from requests->contextily) (3.4.1)\n",
            "Requirement already satisfied: idna<4,>=2.5 in /usr/local/lib/python3.11/dist-packages (from requests->contextily) (3.10)\n",
            "Requirement already satisfied: urllib3<3,>=1.21.1 in /usr/local/lib/python3.11/dist-packages (from requests->contextily) (2.3.0)\n"
          ]
        }
      ]
    },
    {
      "cell_type": "markdown",
      "source": [
        "This code loads a happiness dataset, ensures proper continent assignment, checks for missing coordinates, and creates a choropleth map with a color scale  using Plotly, adjusting the map size and title formatting for better visualization."
      ],
      "metadata": {
        "id": "spG_fEMmkR-1"
      }
    },
    {
      "cell_type": "code",
      "source": [
        "import pandas as pd\n",
        "import plotly.express as px\n",
        "\n",
        "# Check if 'latitude' exists in the dataset\n",
        "print(\"Dataset Columns:\", df.columns)\n",
        "\n",
        "# Ensure 'Continent' is correctly assigned (drop duplicate columns)\n",
        "if \"Continent_x\" in df.columns and \"Continent_y\" in df.columns:\n",
        "    df.drop(columns=[\"Continent_x\"], inplace=True)\n",
        "    df.rename(columns={\"Continent_y\": \"Continent\"}, inplace=True)\n",
        "\n",
        "# Create a choropleth map with reversed color scale (Blue for Happy → Red for Unhappy)\n",
        "fig = px.choropleth(\n",
        "    df,\n",
        "    locations=\"Country\",  # Column with country names\n",
        "    locationmode=\"country names\",  # Recognizing full country names\n",
        "    color=\"Happiness\",  # Color based on happiness score\n",
        "    hover_name=\"Country\",  # Show country names on hover\n",
        "    color_continuous_scale=px.colors.diverging.RdBu[::-1],  # Reverse scale: Blue (Happy) → Red (Unhappy)\n",
        "    title=\"🌍 World Happiness Score Map (2023)\",\n",
        "    projection=\"natural earth\"  # Natural Earth projection\n",
        ")\n",
        "\n",
        "# Increase figure size and adjust title\n",
        "fig.update_layout(\n",
        "    width=1400,  # Larger width\n",
        "    height=800,  # Larger height\n",
        "    title_font=dict(size=24),  # Bigger title font\n",
        "    margin=dict(l=50, r=50, t=80, b=50)  # Adjust margins for better spacing\n",
        ")\n",
        "\n",
        "# Show the map\n",
        "fig.show()"
      ],
      "metadata": {
        "colab": {
          "base_uri": "https://localhost:8080/",
          "height": 873
        },
        "id": "SCd_VoW8fQrH",
        "outputId": "8959644e-9c6b-4762-d603-5d59fe4368f8"
      },
      "execution_count": null,
      "outputs": [
        {
          "output_type": "stream",
          "name": "stdout",
          "text": [
            "Dataset Columns: Index(['Country', 'Happiness', 'GDP', 'Social_Support', 'Life_Exp', 'Freedom',\n",
            "       'Generosity', 'Corruption'],\n",
            "      dtype='object')\n"
          ]
        },
        {
          "output_type": "display_data",
          "data": {
            "text/html": [
              "<html>\n",
              "<head><meta charset=\"utf-8\" /></head>\n",
              "<body>\n",
              "    <div>            <script src=\"https://cdnjs.cloudflare.com/ajax/libs/mathjax/2.7.5/MathJax.js?config=TeX-AMS-MML_SVG\"></script><script type=\"text/javascript\">if (window.MathJax && window.MathJax.Hub && window.MathJax.Hub.Config) {window.MathJax.Hub.Config({SVG: {font: \"STIX-Web\"}});}</script>                <script type=\"text/javascript\">window.PlotlyConfig = {MathJaxConfig: 'local'};</script>\n",
              "        <script charset=\"utf-8\" src=\"https://cdn.plot.ly/plotly-2.35.2.min.js\"></script>                <div id=\"ad81aa96-277c-4ad1-b9fa-188d4685637a\" class=\"plotly-graph-div\" style=\"height:800px; width:1400px;\"></div>            <script type=\"text/javascript\">                                    window.PLOTLYENV=window.PLOTLYENV || {};                                    if (document.getElementById(\"ad81aa96-277c-4ad1-b9fa-188d4685637a\")) {                    Plotly.newPlot(                        \"ad81aa96-277c-4ad1-b9fa-188d4685637a\",                        [{\"coloraxis\":\"coloraxis\",\"geo\":\"geo\",\"hovertemplate\":\"\\u003cb\\u003e%{hovertext}\\u003c\\u002fb\\u003e\\u003cbr\\u003e\\u003cbr\\u003eCountry=%{location}\\u003cbr\\u003eHappiness=%{z}\\u003cextra\\u003e\\u003c\\u002fextra\\u003e\",\"hovertext\":[\"Finland\",\"Denmark\",\"Iceland\",\"Israel\",\"Netherlands\",\"Sweden\",\"Norway\",\"Switzerland\",\"Luxembourg\",\"New Zealand\",\"Austria\",\"Australia\",\"Canada\",\"Ireland\",\"United States\",\"Germany\",\"Belgium\",\"Czechia\",\"United Kingdom\",\"Lithuania\",\"France\",\"Slovenia\",\"Costa Rica\",\"Romania\",\"Singapore\",\"United Arab Emirates\",\"Taiwan Province of China\",\"Uruguay\",\"Slovakia\",\"Saudi Arabia\",\"Estonia\",\"Spain\",\"Italy\",\"Kosovo\",\"Chile\",\"Mexico\",\"Malta\",\"Panama\",\"Poland\",\"Nicaragua\",\"Latvia\",\"Bahrain\",\"Guatemala\",\"Kazakhstan\",\"Serbia\",\"Cyprus\",\"Japan\",\"Croatia\",\"Brazil\",\"El Salvador\",\"Hungary\",\"Argentina\",\"Honduras\",\"Uzbekistan\",\"Malaysia\",\"Portugal\",\"South Korea\",\"Greece\",\"Mauritius\",\"Thailand\",\"Mongolia\",\"Kyrgyzstan\",\"Moldova\",\"China\",\"Vietnam\",\"Paraguay\",\"Montenegro\",\"Jamaica\",\"Bolivia\",\"Russia\",\"Bosnia and Herzegovina\",\"Colombia\",\"Dominican Republic\",\"Ecuador\",\"Peru\",\"Philippines\",\"Bulgaria\",\"Nepal\",\"Armenia\",\"Tajikistan\",\"Algeria\",\"Hong Kong S.A.R. of China\",\"Albania\",\"Indonesia\",\"South Africa\",\"Congo (Brazzaville)\",\"North Macedonia\",\"Venezuela\",\"Laos\",\"Georgia\",\"Guinea\",\"Ukraine\",\"Ivory Coast\",\"Gabon\",\"Nigeria\",\"Cameroon\",\"Mozambique\",\"Iraq\",\"State of Palestine\",\"Morocco\",\"Iran\",\"Senegal\",\"Mauritania\",\"Burkina Faso\",\"Namibia\",\"Turkiye\",\"Ghana\",\"Pakistan\",\"Niger\",\"Tunisia\",\"Kenya\",\"Sri Lanka\",\"Uganda\",\"Chad\",\"Cambodia\",\"Benin\",\"Myanmar\",\"Bangladesh\",\"Gambia\",\"Mali\",\"Egypt\",\"Togo\",\"Jordan\",\"Ethiopia\",\"Liberia\",\"India\",\"Madagascar\",\"Zambia\",\"Tanzania\",\"Comoros\",\"Malawi\",\"Botswana\",\"Congo (Kinshasa)\",\"Zimbabwe\",\"Sierra Leone\",\"Lebanon\",\"Afghanistan\"],\"locationmode\":\"country names\",\"locations\":[\"Finland\",\"Denmark\",\"Iceland\",\"Israel\",\"Netherlands\",\"Sweden\",\"Norway\",\"Switzerland\",\"Luxembourg\",\"New Zealand\",\"Austria\",\"Australia\",\"Canada\",\"Ireland\",\"United States\",\"Germany\",\"Belgium\",\"Czechia\",\"United Kingdom\",\"Lithuania\",\"France\",\"Slovenia\",\"Costa Rica\",\"Romania\",\"Singapore\",\"United Arab Emirates\",\"Taiwan Province of China\",\"Uruguay\",\"Slovakia\",\"Saudi Arabia\",\"Estonia\",\"Spain\",\"Italy\",\"Kosovo\",\"Chile\",\"Mexico\",\"Malta\",\"Panama\",\"Poland\",\"Nicaragua\",\"Latvia\",\"Bahrain\",\"Guatemala\",\"Kazakhstan\",\"Serbia\",\"Cyprus\",\"Japan\",\"Croatia\",\"Brazil\",\"El Salvador\",\"Hungary\",\"Argentina\",\"Honduras\",\"Uzbekistan\",\"Malaysia\",\"Portugal\",\"South Korea\",\"Greece\",\"Mauritius\",\"Thailand\",\"Mongolia\",\"Kyrgyzstan\",\"Moldova\",\"China\",\"Vietnam\",\"Paraguay\",\"Montenegro\",\"Jamaica\",\"Bolivia\",\"Russia\",\"Bosnia and Herzegovina\",\"Colombia\",\"Dominican Republic\",\"Ecuador\",\"Peru\",\"Philippines\",\"Bulgaria\",\"Nepal\",\"Armenia\",\"Tajikistan\",\"Algeria\",\"Hong Kong S.A.R. of China\",\"Albania\",\"Indonesia\",\"South Africa\",\"Congo (Brazzaville)\",\"North Macedonia\",\"Venezuela\",\"Laos\",\"Georgia\",\"Guinea\",\"Ukraine\",\"Ivory Coast\",\"Gabon\",\"Nigeria\",\"Cameroon\",\"Mozambique\",\"Iraq\",\"State of Palestine\",\"Morocco\",\"Iran\",\"Senegal\",\"Mauritania\",\"Burkina Faso\",\"Namibia\",\"Turkiye\",\"Ghana\",\"Pakistan\",\"Niger\",\"Tunisia\",\"Kenya\",\"Sri Lanka\",\"Uganda\",\"Chad\",\"Cambodia\",\"Benin\",\"Myanmar\",\"Bangladesh\",\"Gambia\",\"Mali\",\"Egypt\",\"Togo\",\"Jordan\",\"Ethiopia\",\"Liberia\",\"India\",\"Madagascar\",\"Zambia\",\"Tanzania\",\"Comoros\",\"Malawi\",\"Botswana\",\"Congo (Kinshasa)\",\"Zimbabwe\",\"Sierra Leone\",\"Lebanon\",\"Afghanistan\"],\"name\":\"\",\"z\":[7.804,7.586,7.53,7.473,7.403,7.395,7.315,7.24,7.228,7.123,7.097,7.095,6.961,6.911,6.894,6.892,6.859,6.845,6.796,6.763,6.661,6.65,6.609,6.589,6.587,6.571,6.535,6.494,6.469,6.463,6.455,6.436,6.405,6.368,6.334,6.33,6.3,6.265,6.26,6.259,6.213,6.173,6.15,6.144,6.144,6.13,6.129,6.125,6.125,6.122,6.041,6.024,6.023,6.014,6.012,5.968,5.951,5.931,5.902,5.843,5.84,5.825,5.819,5.818,5.763,5.738,5.722,5.703,5.684,5.661,5.633,5.63,5.569,5.559,5.526,5.523,5.466,5.36,5.342,5.33,5.329,5.308,5.277,5.277,5.275,5.267,5.254,5.211,5.111,5.109,5.072,5.071,5.053,5.035,4.981,4.973,4.954,4.941,4.908,4.903,4.876,4.855,4.724,4.638,4.631,4.614,4.605,4.555,4.501,4.497,4.487,4.442,4.432,4.397,4.393,4.374,4.372,4.282,4.279,4.198,4.17,4.137,4.12,4.091,4.042,4.036,4.019,3.982,3.694,3.545,3.495,3.435,3.207,3.204,3.138,2.392,1.859],\"type\":\"choropleth\"}],                        {\"template\":{\"data\":{\"histogram2dcontour\":[{\"type\":\"histogram2dcontour\",\"colorbar\":{\"outlinewidth\":0,\"ticks\":\"\"},\"colorscale\":[[0.0,\"#0d0887\"],[0.1111111111111111,\"#46039f\"],[0.2222222222222222,\"#7201a8\"],[0.3333333333333333,\"#9c179e\"],[0.4444444444444444,\"#bd3786\"],[0.5555555555555556,\"#d8576b\"],[0.6666666666666666,\"#ed7953\"],[0.7777777777777778,\"#fb9f3a\"],[0.8888888888888888,\"#fdca26\"],[1.0,\"#f0f921\"]]}],\"choropleth\":[{\"type\":\"choropleth\",\"colorbar\":{\"outlinewidth\":0,\"ticks\":\"\"}}],\"histogram2d\":[{\"type\":\"histogram2d\",\"colorbar\":{\"outlinewidth\":0,\"ticks\":\"\"},\"colorscale\":[[0.0,\"#0d0887\"],[0.1111111111111111,\"#46039f\"],[0.2222222222222222,\"#7201a8\"],[0.3333333333333333,\"#9c179e\"],[0.4444444444444444,\"#bd3786\"],[0.5555555555555556,\"#d8576b\"],[0.6666666666666666,\"#ed7953\"],[0.7777777777777778,\"#fb9f3a\"],[0.8888888888888888,\"#fdca26\"],[1.0,\"#f0f921\"]]}],\"heatmap\":[{\"type\":\"heatmap\",\"colorbar\":{\"outlinewidth\":0,\"ticks\":\"\"},\"colorscale\":[[0.0,\"#0d0887\"],[0.1111111111111111,\"#46039f\"],[0.2222222222222222,\"#7201a8\"],[0.3333333333333333,\"#9c179e\"],[0.4444444444444444,\"#bd3786\"],[0.5555555555555556,\"#d8576b\"],[0.6666666666666666,\"#ed7953\"],[0.7777777777777778,\"#fb9f3a\"],[0.8888888888888888,\"#fdca26\"],[1.0,\"#f0f921\"]]}],\"heatmapgl\":[{\"type\":\"heatmapgl\",\"colorbar\":{\"outlinewidth\":0,\"ticks\":\"\"},\"colorscale\":[[0.0,\"#0d0887\"],[0.1111111111111111,\"#46039f\"],[0.2222222222222222,\"#7201a8\"],[0.3333333333333333,\"#9c179e\"],[0.4444444444444444,\"#bd3786\"],[0.5555555555555556,\"#d8576b\"],[0.6666666666666666,\"#ed7953\"],[0.7777777777777778,\"#fb9f3a\"],[0.8888888888888888,\"#fdca26\"],[1.0,\"#f0f921\"]]}],\"contourcarpet\":[{\"type\":\"contourcarpet\",\"colorbar\":{\"outlinewidth\":0,\"ticks\":\"\"}}],\"contour\":[{\"type\":\"contour\",\"colorbar\":{\"outlinewidth\":0,\"ticks\":\"\"},\"colorscale\":[[0.0,\"#0d0887\"],[0.1111111111111111,\"#46039f\"],[0.2222222222222222,\"#7201a8\"],[0.3333333333333333,\"#9c179e\"],[0.4444444444444444,\"#bd3786\"],[0.5555555555555556,\"#d8576b\"],[0.6666666666666666,\"#ed7953\"],[0.7777777777777778,\"#fb9f3a\"],[0.8888888888888888,\"#fdca26\"],[1.0,\"#f0f921\"]]}],\"surface\":[{\"type\":\"surface\",\"colorbar\":{\"outlinewidth\":0,\"ticks\":\"\"},\"colorscale\":[[0.0,\"#0d0887\"],[0.1111111111111111,\"#46039f\"],[0.2222222222222222,\"#7201a8\"],[0.3333333333333333,\"#9c179e\"],[0.4444444444444444,\"#bd3786\"],[0.5555555555555556,\"#d8576b\"],[0.6666666666666666,\"#ed7953\"],[0.7777777777777778,\"#fb9f3a\"],[0.8888888888888888,\"#fdca26\"],[1.0,\"#f0f921\"]]}],\"mesh3d\":[{\"type\":\"mesh3d\",\"colorbar\":{\"outlinewidth\":0,\"ticks\":\"\"}}],\"scatter\":[{\"fillpattern\":{\"fillmode\":\"overlay\",\"size\":10,\"solidity\":0.2},\"type\":\"scatter\"}],\"parcoords\":[{\"type\":\"parcoords\",\"line\":{\"colorbar\":{\"outlinewidth\":0,\"ticks\":\"\"}}}],\"scatterpolargl\":[{\"type\":\"scatterpolargl\",\"marker\":{\"colorbar\":{\"outlinewidth\":0,\"ticks\":\"\"}}}],\"bar\":[{\"error_x\":{\"color\":\"#2a3f5f\"},\"error_y\":{\"color\":\"#2a3f5f\"},\"marker\":{\"line\":{\"color\":\"#E5ECF6\",\"width\":0.5},\"pattern\":{\"fillmode\":\"overlay\",\"size\":10,\"solidity\":0.2}},\"type\":\"bar\"}],\"scattergeo\":[{\"type\":\"scattergeo\",\"marker\":{\"colorbar\":{\"outlinewidth\":0,\"ticks\":\"\"}}}],\"scatterpolar\":[{\"type\":\"scatterpolar\",\"marker\":{\"colorbar\":{\"outlinewidth\":0,\"ticks\":\"\"}}}],\"histogram\":[{\"marker\":{\"pattern\":{\"fillmode\":\"overlay\",\"size\":10,\"solidity\":0.2}},\"type\":\"histogram\"}],\"scattergl\":[{\"type\":\"scattergl\",\"marker\":{\"colorbar\":{\"outlinewidth\":0,\"ticks\":\"\"}}}],\"scatter3d\":[{\"type\":\"scatter3d\",\"line\":{\"colorbar\":{\"outlinewidth\":0,\"ticks\":\"\"}},\"marker\":{\"colorbar\":{\"outlinewidth\":0,\"ticks\":\"\"}}}],\"scattermapbox\":[{\"type\":\"scattermapbox\",\"marker\":{\"colorbar\":{\"outlinewidth\":0,\"ticks\":\"\"}}}],\"scatterternary\":[{\"type\":\"scatterternary\",\"marker\":{\"colorbar\":{\"outlinewidth\":0,\"ticks\":\"\"}}}],\"scattercarpet\":[{\"type\":\"scattercarpet\",\"marker\":{\"colorbar\":{\"outlinewidth\":0,\"ticks\":\"\"}}}],\"carpet\":[{\"aaxis\":{\"endlinecolor\":\"#2a3f5f\",\"gridcolor\":\"white\",\"linecolor\":\"white\",\"minorgridcolor\":\"white\",\"startlinecolor\":\"#2a3f5f\"},\"baxis\":{\"endlinecolor\":\"#2a3f5f\",\"gridcolor\":\"white\",\"linecolor\":\"white\",\"minorgridcolor\":\"white\",\"startlinecolor\":\"#2a3f5f\"},\"type\":\"carpet\"}],\"table\":[{\"cells\":{\"fill\":{\"color\":\"#EBF0F8\"},\"line\":{\"color\":\"white\"}},\"header\":{\"fill\":{\"color\":\"#C8D4E3\"},\"line\":{\"color\":\"white\"}},\"type\":\"table\"}],\"barpolar\":[{\"marker\":{\"line\":{\"color\":\"#E5ECF6\",\"width\":0.5},\"pattern\":{\"fillmode\":\"overlay\",\"size\":10,\"solidity\":0.2}},\"type\":\"barpolar\"}],\"pie\":[{\"automargin\":true,\"type\":\"pie\"}]},\"layout\":{\"autotypenumbers\":\"strict\",\"colorway\":[\"#636efa\",\"#EF553B\",\"#00cc96\",\"#ab63fa\",\"#FFA15A\",\"#19d3f3\",\"#FF6692\",\"#B6E880\",\"#FF97FF\",\"#FECB52\"],\"font\":{\"color\":\"#2a3f5f\"},\"hovermode\":\"closest\",\"hoverlabel\":{\"align\":\"left\"},\"paper_bgcolor\":\"white\",\"plot_bgcolor\":\"#E5ECF6\",\"polar\":{\"bgcolor\":\"#E5ECF6\",\"angularaxis\":{\"gridcolor\":\"white\",\"linecolor\":\"white\",\"ticks\":\"\"},\"radialaxis\":{\"gridcolor\":\"white\",\"linecolor\":\"white\",\"ticks\":\"\"}},\"ternary\":{\"bgcolor\":\"#E5ECF6\",\"aaxis\":{\"gridcolor\":\"white\",\"linecolor\":\"white\",\"ticks\":\"\"},\"baxis\":{\"gridcolor\":\"white\",\"linecolor\":\"white\",\"ticks\":\"\"},\"caxis\":{\"gridcolor\":\"white\",\"linecolor\":\"white\",\"ticks\":\"\"}},\"coloraxis\":{\"colorbar\":{\"outlinewidth\":0,\"ticks\":\"\"}},\"colorscale\":{\"sequential\":[[0.0,\"#0d0887\"],[0.1111111111111111,\"#46039f\"],[0.2222222222222222,\"#7201a8\"],[0.3333333333333333,\"#9c179e\"],[0.4444444444444444,\"#bd3786\"],[0.5555555555555556,\"#d8576b\"],[0.6666666666666666,\"#ed7953\"],[0.7777777777777778,\"#fb9f3a\"],[0.8888888888888888,\"#fdca26\"],[1.0,\"#f0f921\"]],\"sequentialminus\":[[0.0,\"#0d0887\"],[0.1111111111111111,\"#46039f\"],[0.2222222222222222,\"#7201a8\"],[0.3333333333333333,\"#9c179e\"],[0.4444444444444444,\"#bd3786\"],[0.5555555555555556,\"#d8576b\"],[0.6666666666666666,\"#ed7953\"],[0.7777777777777778,\"#fb9f3a\"],[0.8888888888888888,\"#fdca26\"],[1.0,\"#f0f921\"]],\"diverging\":[[0,\"#8e0152\"],[0.1,\"#c51b7d\"],[0.2,\"#de77ae\"],[0.3,\"#f1b6da\"],[0.4,\"#fde0ef\"],[0.5,\"#f7f7f7\"],[0.6,\"#e6f5d0\"],[0.7,\"#b8e186\"],[0.8,\"#7fbc41\"],[0.9,\"#4d9221\"],[1,\"#276419\"]]},\"xaxis\":{\"gridcolor\":\"white\",\"linecolor\":\"white\",\"ticks\":\"\",\"title\":{\"standoff\":15},\"zerolinecolor\":\"white\",\"automargin\":true,\"zerolinewidth\":2},\"yaxis\":{\"gridcolor\":\"white\",\"linecolor\":\"white\",\"ticks\":\"\",\"title\":{\"standoff\":15},\"zerolinecolor\":\"white\",\"automargin\":true,\"zerolinewidth\":2},\"scene\":{\"xaxis\":{\"backgroundcolor\":\"#E5ECF6\",\"gridcolor\":\"white\",\"linecolor\":\"white\",\"showbackground\":true,\"ticks\":\"\",\"zerolinecolor\":\"white\",\"gridwidth\":2},\"yaxis\":{\"backgroundcolor\":\"#E5ECF6\",\"gridcolor\":\"white\",\"linecolor\":\"white\",\"showbackground\":true,\"ticks\":\"\",\"zerolinecolor\":\"white\",\"gridwidth\":2},\"zaxis\":{\"backgroundcolor\":\"#E5ECF6\",\"gridcolor\":\"white\",\"linecolor\":\"white\",\"showbackground\":true,\"ticks\":\"\",\"zerolinecolor\":\"white\",\"gridwidth\":2}},\"shapedefaults\":{\"line\":{\"color\":\"#2a3f5f\"}},\"annotationdefaults\":{\"arrowcolor\":\"#2a3f5f\",\"arrowhead\":0,\"arrowwidth\":1},\"geo\":{\"bgcolor\":\"white\",\"landcolor\":\"#E5ECF6\",\"subunitcolor\":\"white\",\"showland\":true,\"showlakes\":true,\"lakecolor\":\"white\"},\"title\":{\"x\":0.05},\"mapbox\":{\"style\":\"light\"}}},\"geo\":{\"domain\":{\"x\":[0.0,1.0],\"y\":[0.0,1.0]},\"projection\":{\"type\":\"natural earth\"},\"center\":{}},\"coloraxis\":{\"colorbar\":{\"title\":{\"text\":\"Happiness\"}},\"colorscale\":[[0.0,\"rgb(5,48,97)\"],[0.1,\"rgb(33,102,172)\"],[0.2,\"rgb(67,147,195)\"],[0.3,\"rgb(146,197,222)\"],[0.4,\"rgb(209,229,240)\"],[0.5,\"rgb(247,247,247)\"],[0.6,\"rgb(253,219,199)\"],[0.7,\"rgb(244,165,130)\"],[0.8,\"rgb(214,96,77)\"],[0.9,\"rgb(178,24,43)\"],[1.0,\"rgb(103,0,31)\"]]},\"legend\":{\"tracegroupgap\":0},\"title\":{\"text\":\"🌍 World Happiness Score Map (2023)\",\"font\":{\"size\":24}},\"margin\":{\"l\":50,\"r\":50,\"t\":80,\"b\":50},\"width\":1400,\"height\":800},                        {\"responsive\": true}                    ).then(function(){\n",
              "                            \n",
              "var gd = document.getElementById('ad81aa96-277c-4ad1-b9fa-188d4685637a');\n",
              "var x = new MutationObserver(function (mutations, observer) {{\n",
              "        var display = window.getComputedStyle(gd).display;\n",
              "        if (!display || display === 'none') {{\n",
              "            console.log([gd, 'removed!']);\n",
              "            Plotly.purge(gd);\n",
              "            observer.disconnect();\n",
              "        }}\n",
              "}});\n",
              "\n",
              "// Listen for the removal of the full notebook cells\n",
              "var notebookContainer = gd.closest('#notebook-container');\n",
              "if (notebookContainer) {{\n",
              "    x.observe(notebookContainer, {childList: true});\n",
              "}}\n",
              "\n",
              "// Listen for the clearing of the current output cell\n",
              "var outputEl = gd.closest('.output');\n",
              "if (outputEl) {{\n",
              "    x.observe(outputEl, {childList: true});\n",
              "}}\n",
              "\n",
              "                        })                };                            </script>        </div>\n",
              "</body>\n",
              "</html>"
            ]
          },
          "metadata": {}
        }
      ]
    },
    {
      "cell_type": "markdown",
      "source": [
        "Dashbaord Code: This Dash web application visualizes the World Happiness Report (2023) using an interactive dashboard with a world map, a bar chart, and a scatter plot. Users can filter data by continent and adjust a happiness score threshold using a slider, which dynamically updates the map while keeping the color scale fixed. The bar chart displays the top and bottom five countries for a selected variable, and the scatter plot shows the relationship between happiness and other factors. The layout is optimized for better spacing, with the map at the top, followed by the slider, bar chart, and scatter plot."
      ],
      "metadata": {
        "id": "JxJibi66UkRz"
      }
    },
    {
      "cell_type": "code",
      "source": [
        "!pip install dash"
      ],
      "metadata": {
        "colab": {
          "base_uri": "https://localhost:8080/"
        },
        "collapsed": true,
        "id": "jCF1zGXOT4Jo",
        "outputId": "d7995e98-48ac-492f-9dd0-c88cd63ffadc"
      },
      "execution_count": null,
      "outputs": [
        {
          "output_type": "stream",
          "name": "stdout",
          "text": [
            "Requirement already satisfied: dash in /usr/local/lib/python3.11/dist-packages (3.0.0)\n",
            "Requirement already satisfied: Flask<3.1,>=1.0.4 in /usr/local/lib/python3.11/dist-packages (from dash) (3.0.3)\n",
            "Requirement already satisfied: Werkzeug<3.1 in /usr/local/lib/python3.11/dist-packages (from dash) (3.0.6)\n",
            "Requirement already satisfied: plotly>=5.0.0 in /usr/local/lib/python3.11/dist-packages (from dash) (5.24.1)\n",
            "Requirement already satisfied: importlib-metadata in /usr/local/lib/python3.11/dist-packages (from dash) (8.6.1)\n",
            "Requirement already satisfied: typing-extensions>=4.1.1 in /usr/local/lib/python3.11/dist-packages (from dash) (4.12.2)\n",
            "Requirement already satisfied: requests in /usr/local/lib/python3.11/dist-packages (from dash) (2.32.3)\n",
            "Requirement already satisfied: retrying in /usr/local/lib/python3.11/dist-packages (from dash) (1.3.4)\n",
            "Requirement already satisfied: nest-asyncio in /usr/local/lib/python3.11/dist-packages (from dash) (1.6.0)\n",
            "Requirement already satisfied: setuptools in /usr/local/lib/python3.11/dist-packages (from dash) (75.1.0)\n",
            "Requirement already satisfied: stringcase>=1.2.0 in /usr/local/lib/python3.11/dist-packages (from dash) (1.2.0)\n",
            "Requirement already satisfied: Jinja2>=3.1.2 in /usr/local/lib/python3.11/dist-packages (from Flask<3.1,>=1.0.4->dash) (3.1.6)\n",
            "Requirement already satisfied: itsdangerous>=2.1.2 in /usr/local/lib/python3.11/dist-packages (from Flask<3.1,>=1.0.4->dash) (2.2.0)\n",
            "Requirement already satisfied: click>=8.1.3 in /usr/local/lib/python3.11/dist-packages (from Flask<3.1,>=1.0.4->dash) (8.1.8)\n",
            "Requirement already satisfied: blinker>=1.6.2 in /usr/local/lib/python3.11/dist-packages (from Flask<3.1,>=1.0.4->dash) (1.9.0)\n",
            "Requirement already satisfied: tenacity>=6.2.0 in /usr/local/lib/python3.11/dist-packages (from plotly>=5.0.0->dash) (9.0.0)\n",
            "Requirement already satisfied: packaging in /usr/local/lib/python3.11/dist-packages (from plotly>=5.0.0->dash) (24.2)\n",
            "Requirement already satisfied: MarkupSafe>=2.1.1 in /usr/local/lib/python3.11/dist-packages (from Werkzeug<3.1->dash) (3.0.2)\n",
            "Requirement already satisfied: zipp>=3.20 in /usr/local/lib/python3.11/dist-packages (from importlib-metadata->dash) (3.21.0)\n",
            "Requirement already satisfied: charset-normalizer<4,>=2 in /usr/local/lib/python3.11/dist-packages (from requests->dash) (3.4.1)\n",
            "Requirement already satisfied: idna<4,>=2.5 in /usr/local/lib/python3.11/dist-packages (from requests->dash) (3.10)\n",
            "Requirement already satisfied: urllib3<3,>=1.21.1 in /usr/local/lib/python3.11/dist-packages (from requests->dash) (2.3.0)\n",
            "Requirement already satisfied: certifi>=2017.4.17 in /usr/local/lib/python3.11/dist-packages (from requests->dash) (2025.1.31)\n",
            "Requirement already satisfied: six>=1.7.0 in /usr/local/lib/python3.11/dist-packages (from retrying->dash) (1.17.0)\n"
          ]
        }
      ]
    },
    {
      "cell_type": "markdown",
      "source": [
        "**Interactive Dashboard**: This interactive Dash web application visualizes the World Happiness Report (2023) using three key visualizations: a world map, a bar chart, and a scatter plot, all accessible via separate tabs. Users can filter data by continent and adjust the happiness score threshold using a slider, which dynamically updates the world map while maintaining a consistent color scale. The bar chart highlights the top and bottom five countries for a selected variable, while the scatter plot illustrates the relationship between happiness and other factors, complete with a regression trendline. The layout is structured for clarity and ease of use, with an intuitive tabbed navigation system for exploring different insights efficiently"
      ],
      "metadata": {
        "id": "ruT4es2ogWXl"
      }
    },
    {
      "cell_type": "code",
      "source": [
        "import dash\n",
        "from dash import dcc, html\n",
        "from dash.dependencies import Input, Output\n",
        "import plotly.express as px\n",
        "import plotly.graph_objects as go\n",
        "import pandas as pd\n",
        "\n",
        "# Load dataset\n",
        "df = pd.read_csv(cleaned_data_path)\n",
        "\n",
        "# Load country-to-continent mapping\n",
        "continent_path = \"/content/drive/My Drive/UM/MADS/SIADS521 - Visual Exp of Data/Assignment 3/Dataset/countryContinent.csv\"\n",
        "try:\n",
        "    continent_df = pd.read_csv(continent_path, encoding=\"utf-8\")\n",
        "except UnicodeDecodeError:\n",
        "    continent_df = pd.read_csv(continent_path, encoding=\"ISO-8859-1\")\n",
        "\n",
        "# Standardizing column names and merging continent info\n",
        "continent_df.rename(columns={\"country\": \"Country\", \"continent\": \"Continent\"}, inplace=True)\n",
        "df[\"Country\"] = df[\"Country\"].str.strip().str.lower()\n",
        "continent_df[\"Country\"] = continent_df[\"Country\"].str.strip().str.lower()\n",
        "df = df.merge(continent_df[[\"Country\", \"Continent\"]], on=\"Country\", how=\"left\")\n",
        "\n",
        "# Merge North America & South America as \"Americas\"\n",
        "df[\"Continent\"] = df[\"Continent\"].replace({\"North America\": \"Americas\", \"South America\": \"Americas\"})\n",
        "df.dropna(subset=[\"Continent\"], inplace=True)\n",
        "\n",
        "# Define variables for dropdown selection\n",
        "variables = {\n",
        "    \"Happiness\": \"Happiness Score\",\n",
        "    \"GDP\": \"GDP per Capita\",\n",
        "    \"Social_Support\": \"Social Support\",\n",
        "    \"Life_Exp\": \"Life Expectancy\",\n",
        "    \"Freedom\": \"Freedom to Make Choices\",\n",
        "    \"Generosity\": \"Generosity\",\n",
        "    \"Corruption\": \"Perceptions of Corruption\"\n",
        "}\n",
        "\n",
        "# Dropdown options for continents\n",
        "continents = [\"All\"] + sorted(df[\"Continent\"].unique())\n",
        "\n",
        "# Initialize Dash app and **suppress callback exceptions**\n",
        "app = dash.Dash(__name__, suppress_callback_exceptions=True)\n",
        "app.title = \"World Happiness Dashboard\"\n",
        "\n",
        "# Layout with Tabs\n",
        "app.layout = html.Div([\n",
        "    # Sidebar\n",
        "    html.Div([\n",
        "        html.H2(\"🌍 World Happiness Report(2023)\", style={\"color\": \"white\", \"padding\": \"10px\"}),\n",
        "        html.Hr(style={\"border\": \"1px solid white\"}),\n",
        "\n",
        "        html.P(\"Select a Variable:\", style={\"color\": \"white\"}),\n",
        "        dcc.Dropdown(\n",
        "            id=\"variable-dropdown\",\n",
        "            options=[{\"label\": name, \"value\": var} for var, name in variables.items()],\n",
        "            value=\"GDP\",\n",
        "            clearable=False,\n",
        "            style={\"width\": \"90%\", \"color\": \"black\", \"background-color\": \"white\"}\n",
        "        ),\n",
        "\n",
        "        html.P(\"Filter by Continent:\", style={\"color\": \"white\", \"margin-top\": \"20px\"}),\n",
        "        dcc.Dropdown(\n",
        "            id=\"continent-dropdown\",\n",
        "            options=[{\"label\": cont, \"value\": cont} for cont in continents],\n",
        "            value=\"All\",\n",
        "            clearable=False,\n",
        "            style={\"width\": \"90%\", \"color\": \"black\", \"background-color\": \"white\"}\n",
        "        ),\n",
        "    ], style={\"width\": \"20%\", \"background-color\": \"#2C3E50\", \"padding\": \"20px\", \"height\": \"100vh\", \"position\": \"fixed\", \"color\": \"white\"}),\n",
        "\n",
        "    # Main Content with Tabs\n",
        "    html.Div([\n",
        "        dcc.Tabs(id=\"tabs\", value=\"map\", children=[\n",
        "            dcc.Tab(label=\"🌍 World Happiness Score Map\", value=\"map\"),\n",
        "            dcc.Tab(label=\"📊 Top 5 & Bottom 5\", value=\"bar\"),\n",
        "            dcc.Tab(label=\"📉 Relationship with Happiness\", value=\"scatter\")\n",
        "        ], style={\"margin-bottom\": \"20px\"}),\n",
        "\n",
        "        html.Div(id=\"tab-content\")\n",
        "    ], style={\"margin-left\": \"20%\", \"padding\": \"10px\"})\n",
        "])\n",
        "\n",
        "# Callback to update tab content dynamically\n",
        "@app.callback(\n",
        "    Output(\"tab-content\", \"children\"),\n",
        "    Input(\"tabs\", \"value\")\n",
        ")\n",
        "def display_selected_tab(selected_tab):\n",
        "    if selected_tab == \"map\":\n",
        "        return html.Div([\n",
        "            html.H3(\"🌍 World Happiness Score Map (2023)\", style={\"text-align\": \"center\", \"margin-bottom\": \"3px\"}),\n",
        "            html.P(\"ℹ️ Hover over a country to see its Happiness Score\",\n",
        "                   style={\"text-align\": \"center\", \"color\": \"gray\", \"font-size\": \"14px\", \"margin-top\": \"0px\"}),\n",
        "            dcc.Graph(id=\"happiness-map\", style={\"height\": \"600px\", \"width\": \"90%\", \"margin\": \"auto\"}),\n",
        "            html.Div([\n",
        "                html.P(\"Filter Happiness Score Threshold:\", style={\"text-align\": \"center\", \"font-weight\": \"bold\", \"margin-bottom\": \"5px\"}),\n",
        "                dcc.Slider(\n",
        "                    id=\"happiness-slider\",\n",
        "                    min=df[\"Happiness\"].min(),\n",
        "                    max=df[\"Happiness\"].max(),\n",
        "                    step=0.1,\n",
        "                    value=df[\"Happiness\"].max(),\n",
        "                    marks={i: str(i) for i in range(int(df[\"Happiness\"].min()), int(df[\"Happiness\"].max()) + 1)}\n",
        "                )\n",
        "            ], style={\"width\": \"70%\", \"margin\": \"10px auto\"})\n",
        "        ])\n",
        "    elif selected_tab == \"bar\":\n",
        "        return html.Div([\n",
        "            html.H3(\"📊 Top 5 & Bottom 5\", style={\"text-align\": \"center\", \"margin-bottom\": \"3px\"}),\n",
        "            dcc.Graph(id=\"bar-chart\", style={\"width\": \"80%\", \"height\": \"450px\", \"margin\": \"auto\"})\n",
        "        ])\n",
        "    elif selected_tab == \"scatter\":\n",
        "        return html.Div([\n",
        "            html.H3(\"📉 Relationship with Happiness\", style={\"text-align\": \"center\", \"margin-bottom\": \"3px\"}),\n",
        "            dcc.Graph(id=\"scatter-plot\", style={\"width\": \"80%\", \"height\": \"500px\", \"margin\": \"auto\"})\n",
        "        ])\n",
        "    return dash.no_update\n",
        "\n",
        "# **World Map Update**\n",
        "@app.callback(\n",
        "    Output(\"happiness-map\", \"figure\"),\n",
        "    [Input(\"continent-dropdown\", \"value\"), Input(\"happiness-slider\", \"value\")]\n",
        ")\n",
        "def update_map(selected_continent, happiness_threshold):\n",
        "    filtered_df = df if selected_continent == \"All\" else df[df[\"Continent\"] == selected_continent]\n",
        "    filtered_df = filtered_df[filtered_df[\"Happiness\"] <= happiness_threshold]\n",
        "\n",
        "    fig = px.choropleth(\n",
        "        filtered_df,\n",
        "        locations=\"Country\",\n",
        "        locationmode=\"country names\",\n",
        "        color=\"Happiness\",\n",
        "        hover_name=\"Country\",\n",
        "        hover_data={\"Happiness\": True},\n",
        "        color_continuous_scale=px.colors.diverging.RdBu[::-1],\n",
        "        range_color=[df[\"Happiness\"].min(), df[\"Happiness\"].max()]\n",
        "    )\n",
        "\n",
        "    fig.update_layout(\n",
        "        geo=dict(scope=\"world\", projection=go.layout.geo.Projection(type=\"natural earth\")),\n",
        "        margin=dict(l=40, r=40, t=30, b=20),\n",
        "        coloraxis_colorbar=dict(title=\"Happiness Score\", len=0.8)\n",
        "    )\n",
        "    return fig\n",
        "\n",
        "# **Bar Chart Update**\n",
        "@app.callback(\n",
        "    Output(\"bar-chart\", \"figure\"),\n",
        "    [Input(\"variable-dropdown\", \"value\"), Input(\"continent-dropdown\", \"value\")]\n",
        ")\n",
        "def update_bar_chart(selected_var, selected_continent):\n",
        "    filtered_df = df if selected_continent == \"All\" else df[df[\"Continent\"] == selected_continent]\n",
        "    sorted_df = filtered_df.sort_values(by=selected_var, ascending=False)\n",
        "    top_5, bottom_5 = sorted_df.head(5), sorted_df.tail(5)\n",
        "\n",
        "    fig = go.Figure()\n",
        "    fig.add_trace(go.Bar(y=bottom_5[\"Country\"], x=bottom_5[selected_var], orientation=\"h\", marker=dict(color=\"blue\"), name=\"Bottom 5\"))\n",
        "    fig.add_trace(go.Bar(y=top_5[\"Country\"], x=top_5[selected_var], orientation=\"h\", marker=dict(color=\"red\"), name=\"Top 5\"))\n",
        "\n",
        "    fig.update_layout(title=\"Top 5 & Bottom 5\", xaxis_title=selected_var, yaxis_title=\"Country\", height=450)\n",
        "    return fig\n",
        "\n",
        "# **Scatter Plot Update (Restoring Regression Line)**\n",
        "@app.callback(\n",
        "    Output(\"scatter-plot\", \"figure\"),\n",
        "    [Input(\"variable-dropdown\", \"value\"), Input(\"continent-dropdown\", \"value\")]\n",
        ")\n",
        "def update_scatter(selected_var, selected_continent):\n",
        "    filtered_df = df if selected_continent == \"All\" else df[df[\"Continent\"] == selected_continent]\n",
        "\n",
        "    fig = px.scatter(\n",
        "        filtered_df, x=selected_var, y=\"Happiness\", hover_name=\"Country\",\n",
        "        color=\"Happiness\", color_continuous_scale=\"RdBu_r\", trendline=\"ols\"\n",
        "    )\n",
        "\n",
        "    fig.update_layout(title=f\"{variables[selected_var]} vs Happiness\", title_x=0.5)\n",
        "    return fig\n",
        "\n",
        "# Run app\n",
        "if __name__ == \"__main__\":\n",
        "    app.run(debug=True)"
      ],
      "metadata": {
        "colab": {
          "base_uri": "https://localhost:8080/",
          "height": 672
        },
        "id": "uP0OdZUnYo3L",
        "outputId": "800214c2-99e5-4a33-c5dc-3266bed39b8b"
      },
      "execution_count": null,
      "outputs": [
        {
          "output_type": "display_data",
          "data": {
            "text/plain": [
              "<IPython.core.display.Javascript object>"
            ],
            "application/javascript": [
              "(async (port, path, width, height, cache, element) => {\n",
              "    if (!google.colab.kernel.accessAllowed && !cache) {\n",
              "      return;\n",
              "    }\n",
              "    element.appendChild(document.createTextNode(''));\n",
              "    const url = await google.colab.kernel.proxyPort(port, {cache});\n",
              "    const iframe = document.createElement('iframe');\n",
              "    iframe.src = new URL(path, url).toString();\n",
              "    iframe.height = height;\n",
              "    iframe.width = width;\n",
              "    iframe.style.border = 0;\n",
              "    iframe.allow = [\n",
              "        'accelerometer',\n",
              "        'autoplay',\n",
              "        'camera',\n",
              "        'clipboard-read',\n",
              "        'clipboard-write',\n",
              "        'gyroscope',\n",
              "        'magnetometer',\n",
              "        'microphone',\n",
              "        'serial',\n",
              "        'usb',\n",
              "        'xr-spatial-tracking',\n",
              "    ].join('; ');\n",
              "    element.appendChild(iframe);\n",
              "  })(8050, \"/\", \"100%\", 650, false, window.element)"
            ]
          },
          "metadata": {}
        }
      ]
    }
  ]
}